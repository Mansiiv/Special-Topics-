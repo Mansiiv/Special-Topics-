{
  "cells": [
    {
      "cell_type": "markdown",
      "metadata": {
        "id": "dqDkJn-bgJDx"
      },
      "source": [
        "# Gemini Multimodel use cases"
      ]
    },
    {
      "cell_type": "markdown",
      "metadata": {
        "id": "W4xZ3zRGsJjP"
      },
      "source": [
        "## 1. Synthetic Data Generation"
      ]
    },
    {
      "cell_type": "code",
      "execution_count": null,
      "metadata": {
        "colab": {
          "base_uri": "https://localhost:8080/"
        },
        "id": "oP2ogdu0sVOB",
        "outputId": "fc9cf708-7b9e-49b3-983e-ac7d593ae4aa"
      },
      "outputs": [
        {
          "name": "stdout",
          "output_type": "stream",
          "text": [
            "\u001b[?25l     \u001b[90m━━━━━━━━━━━━━━━━━━━━━━━━━━━━━━━━━━━━━━━━\u001b[0m \u001b[32m0.0/150.2 kB\u001b[0m \u001b[31m?\u001b[0m eta \u001b[36m-:--:--\u001b[0m\r\u001b[2K     \u001b[90m━━━━━━━━━━━━━━━━━━━━━━━━━━━━━━━━━━━━━━━━\u001b[0m \u001b[32m150.2/150.2 kB\u001b[0m \u001b[31m9.5 MB/s\u001b[0m eta \u001b[36m0:00:00\u001b[0m\n",
            "\u001b[?25h  Preparing metadata (setup.py) ... \u001b[?25l\u001b[?25hdone\n",
            "\u001b[2K     \u001b[90m━━━━━━━━━━━━━━━━━━━━━━━━━━━━━━━━━━━━━━━━\u001b[0m \u001b[32m48.9/48.9 kB\u001b[0m \u001b[31m2.7 MB/s\u001b[0m eta \u001b[36m0:00:00\u001b[0m\n",
            "\u001b[2K   \u001b[90m━━━━━━━━━━━━━━━━━━━━━━━━━━━━━━━━━━━━━━━━\u001b[0m \u001b[32m95.7/95.7 kB\u001b[0m \u001b[31m4.6 MB/s\u001b[0m eta \u001b[36m0:00:00\u001b[0m\n",
            "\u001b[2K   \u001b[90m━━━━━━━━━━━━━━━━━━━━━━━━━━━━━━━━━━━━━━━━\u001b[0m \u001b[32m163.8/163.8 kB\u001b[0m \u001b[31m7.2 MB/s\u001b[0m eta \u001b[36m0:00:00\u001b[0m\n",
            "\u001b[2K   \u001b[90m━━━━━━━━━━━━━━━━━━━━━━━━━━━━━━━━━━━━━━━━\u001b[0m \u001b[32m1.8/1.8 MB\u001b[0m \u001b[31m43.6 MB/s\u001b[0m eta \u001b[36m0:00:00\u001b[0m\n",
            "\u001b[2K   \u001b[90m━━━━━━━━━━━━━━━━━━━━━━━━━━━━━━━━━━━━━━━━\u001b[0m \u001b[32m61.6/61.6 kB\u001b[0m \u001b[31m3.7 MB/s\u001b[0m eta \u001b[36m0:00:00\u001b[0m\n",
            "\u001b[2K   \u001b[90m━━━━━━━━━━━━━━━━━━━━━━━━━━━━━━━━━━━━━━━━\u001b[0m \u001b[32m133.2/133.2 kB\u001b[0m \u001b[31m6.9 MB/s\u001b[0m eta \u001b[36m0:00:00\u001b[0m\n",
            "\u001b[2K   \u001b[90m━━━━━━━━━━━━━━━━━━━━━━━━━━━━━━━━━━━━━━━━\u001b[0m \u001b[32m3.1/3.1 MB\u001b[0m \u001b[31m51.4 MB/s\u001b[0m eta \u001b[36m0:00:00\u001b[0m\n",
            "\u001b[2K   \u001b[90m━━━━━━━━━━━━━━━━━━━━━━━━━━━━━━━━━━━━━━━━\u001b[0m \u001b[32m229.9/229.9 kB\u001b[0m \u001b[31m12.9 MB/s\u001b[0m eta \u001b[36m0:00:00\u001b[0m\n",
            "\u001b[2K   \u001b[90m━━━━━━━━━━━━━━━━━━━━━━━━━━━━━━━━━━━━━━━━\u001b[0m \u001b[32m705.5/705.5 kB\u001b[0m \u001b[31m31.0 MB/s\u001b[0m eta \u001b[36m0:00:00\u001b[0m\n",
            "\u001b[2K   \u001b[90m━━━━━━━━━━━━━━━━━━━━━━━━━━━━━━━━━━━━━━━━\u001b[0m \u001b[32m62.5/62.5 kB\u001b[0m \u001b[31m4.1 MB/s\u001b[0m eta \u001b[36m0:00:00\u001b[0m\n",
            "\u001b[2K   \u001b[90m━━━━━━━━━━━━━━━━━━━━━━━━━━━━━━━━━━━━━━━━\u001b[0m \u001b[32m1.6/1.6 MB\u001b[0m \u001b[31m34.1 MB/s\u001b[0m eta \u001b[36m0:00:00\u001b[0m\n",
            "\u001b[2K   \u001b[90m━━━━━━━━━━━━━━━━━━━━━━━━━━━━━━━━━━━━━━━━\u001b[0m \u001b[32m143.8/143.8 kB\u001b[0m \u001b[31m7.3 MB/s\u001b[0m eta \u001b[36m0:00:00\u001b[0m\n",
            "\u001b[?25h  Building wheel for python-baseconv (setup.py) ... \u001b[?25l\u001b[?25hdone\n",
            "\u001b[33m  WARNING: The script faker is installed in '/root/.local/bin' which is not on PATH.\n",
            "  Consider adding this directory to PATH or, if you prefer to suppress this warning, use --no-warn-script-location.\u001b[0m\u001b[33m\n",
            "\u001b[0m\u001b[33m  WARNING: The scripts snowbench and snowfakery are installed in '/root/.local/bin' which is not on PATH.\n",
            "  Consider adding this directory to PATH or, if you prefer to suppress this warning, use --no-warn-script-location.\u001b[0m\u001b[33m\n",
            "\u001b[0m\u001b[31mERROR: pip's dependency resolver does not currently take into account all the packages that are installed. This behaviour is the source of the following dependency conflicts.\n",
            "albumentations 1.4.14 requires pydantic>=2.7.0, but you have pydantic 1.10.14 which is incompatible.\n",
            "google-colab 1.0.0 requires requests==2.32.3, but you have requests 2.29.0 which is incompatible.\n",
            "ipython-sql 0.5.0 requires sqlalchemy>=2.0, but you have sqlalchemy 1.4.52 which is incompatible.\n",
            "yfinance 0.2.43 requires requests>=2.31, but you have requests 2.29.0 which is incompatible.\u001b[0m\u001b[31m\n",
            "\u001b[0m"
          ]
        }
      ],
      "source": [
        "%pip install --upgrade --user -q google-cloud-aiplatform snowfakery==3.6.2 wikipedia-api==0.6.0"
      ]
    },
    {
      "cell_type": "code",
      "execution_count": null,
      "metadata": {
        "id": "Mgv6LEpbsVZG"
      },
      "outputs": [],
      "source": [
        "import sys\n",
        "\n",
        "# Additional authentication is required for Google Colab\n",
        "if \"google.colab\" in sys.modules:\n",
        "    # Authenticate user to Google Cloud\n",
        "    from google.colab import auth\n",
        "\n",
        "    auth.authenticate_user()"
      ]
    },
    {
      "cell_type": "code",
      "execution_count": null,
      "metadata": {
        "id": "054F6ilNsVXE"
      },
      "outputs": [],
      "source": [
        "# Define project information\n",
        "PROJECT_ID = \"inner-orb-434419-b6\"  # @param {type:\"string\"}\n",
        "LOCATION = \"us-central1\"  # @param {type:\"string\"}\n",
        "\n",
        "# Initialize Vertex AI\n",
        "import vertexai\n",
        "\n",
        "vertexai.init(project=PROJECT_ID, location=LOCATION)"
      ]
    },
    {
      "cell_type": "code",
      "execution_count": null,
      "metadata": {
        "id": "kl7g8PywsVUw"
      },
      "outputs": [],
      "source": [
        "from io import StringIO\n",
        "import sys\n",
        "import types\n",
        "import logging\n",
        "\n",
        "import jinja2\n",
        "import wikipediaapi\n",
        "\n",
        "from vertexai.generative_models import GenerativeModel, GenerationConfig\n",
        "\n",
        "from snowfakery.plugins import SnowfakeryPlugin\n",
        "from snowfakery import generate_data"
      ]
    },
    {
      "cell_type": "code",
      "execution_count": null,
      "metadata": {
        "id": "lRnu-q5ssVSp"
      },
      "outputs": [],
      "source": [
        "class SyntheticDataGeneration:\n",
        "    \"\"\"\n",
        "    Implements all the extra functionality needed for this use-case\n",
        "    \"\"\"\n",
        "\n",
        "    class Plugins(types.ModuleType):\n",
        "        \"\"\"\n",
        "        Provides the plugins needed to extend Snowfakery\n",
        "        \"\"\"\n",
        "\n",
        "        class Gemini(SnowfakeryPlugin):\n",
        "            \"\"\"\n",
        "            Plugin for interacting with Gemini.\n",
        "            \"\"\"\n",
        "\n",
        "            class Functions:\n",
        "                \"\"\"\n",
        "                Functions to implement field / object level data generation\n",
        "                \"\"\"\n",
        "\n",
        "                def fill_prompt(self, prompt_name: str, **kwargs) -> str:\n",
        "                    \"\"\"\n",
        "                    Returns a formatted prompt\n",
        "                    \"\"\"\n",
        "                    return (\n",
        "                        jinja2.Environment(\n",
        "                            loader=jinja2.FileSystemLoader(searchpath=\"./\")\n",
        "                        )\n",
        "                        .get_template(prompt_name)\n",
        "                        .render(**kwargs)\n",
        "                    )\n",
        "\n",
        "                def generate(\n",
        "                    self,\n",
        "                    prompt_name: str,\n",
        "                    model=\"gemini-1.0-pro-001\",\n",
        "                    temperature=0.9,\n",
        "                    top_p=1,\n",
        "                    **kwargs,\n",
        "                ) -> str | None:\n",
        "                    \"\"\"\n",
        "                    A wrapper around Gemini plugin\n",
        "                    \"\"\"\n",
        "                    logging.info(\"Preparing Prompt %s with %s\", prompt_name, kwargs)\n",
        "                    prompt = self.fill_prompt(prompt_name, **kwargs)\n",
        "                    logging.info(\"Prompt %s Prepared\", prompt_name)\n",
        "                    try:\n",
        "                        logging.info(\"Calling Gemini For %s\", prompt_name)\n",
        "                        response = GenerativeModel(model).generate_content(\n",
        "                            prompt,\n",
        "                            generation_config=GenerationConfig(\n",
        "                                temperature=temperature,\n",
        "                                max_output_tokens=8192,\n",
        "                                top_p=top_p,\n",
        "                            ),\n",
        "                        )\n",
        "                    except Exception as e:\n",
        "                        logging.trace(\n",
        "                            (\n",
        "                                \"Unable to generate text using %s.\\n\"\n",
        "                                \"Prepared Prompt: \\n%s\\n\\nError: %s\"\n",
        "                            ),\n",
        "                            prompt_name,\n",
        "                            prompt,\n",
        "                            e,\n",
        "                        )\n",
        "                        return None\n",
        "\n",
        "                    try:\n",
        "                        return response.text\n",
        "                    except Exception as e:\n",
        "                        logging.trace(\n",
        "                            (\n",
        "                                \"Unable to generate text using %s.\\n\"\n",
        "                                \"Prepared Prompt: \\n%s\\n\\n\"\n",
        "                                \"Received Response: \\n%s\\n\\n\"\n",
        "                                \"Error: %s\"\n",
        "                            ),\n",
        "                            prompt_name,\n",
        "                            prompt,\n",
        "                            response,\n",
        "                            e,\n",
        "                        )\n",
        "                        return None\n",
        "\n",
        "        class Wikipedia(SnowfakeryPlugin):\n",
        "            \"\"\"\n",
        "            Plugin for interacting with Wikipedia.\n",
        "            \"\"\"\n",
        "\n",
        "            class Functions:\n",
        "                \"\"\"\n",
        "                Implements a single function to fetch a Wikipedia page\n",
        "                \"\"\"\n",
        "\n",
        "                def get_page(self, title: str):\n",
        "                    \"\"\"\n",
        "                    Returns the title, URL and sections of the given wikipedia page\n",
        "                    \"\"\"\n",
        "                    logging.info(\"Parsing Wikipedia Page %s\", title)\n",
        "                    page = wikipediaapi.Wikipedia(\n",
        "                        \"Snowfakery (example@google.com)\", \"en\"\n",
        "                    ).page(title)\n",
        "                    results = {\"sections\": {}, \"title\": page.title, \"url\": page.fullurl}\n",
        "                    sections = [(s.title, s) for s in page.sections]\n",
        "                    while sections:\n",
        "                        sec_title, sec_obj = sections.pop()\n",
        "                        if sec_title in [\n",
        "                            \"External links\",\n",
        "                            \"References\",\n",
        "                            \"See also\",\n",
        "                            \"Further reading\",\n",
        "                        ]:\n",
        "                            continue\n",
        "                        if sec_obj.text:\n",
        "                            results[\"sections\"][sec_title] = sec_obj.text\n",
        "                        for sub_sec in sec_obj.sections:\n",
        "                            sections.append((f\"{sec_title} - {sub_sec.title}\", sub_sec))\n",
        "                    logging.info(\"Parsing Wikipedia Page %s Complete\", title)\n",
        "                    return results"
      ]
    },
    {
      "cell_type": "code",
      "execution_count": null,
      "metadata": {
        "id": "dmamqVo6sVQB"
      },
      "outputs": [],
      "source": [
        "sys.modules[\"SyntheticDataGeneration.Plugins\"] = SyntheticDataGeneration.Plugins(\n",
        "    name=\"SyntheticDataGeneration.Plugins\"\n",
        ")"
      ]
    },
    {
      "cell_type": "code",
      "execution_count": null,
      "metadata": {
        "colab": {
          "base_uri": "https://localhost:8080/"
        },
        "id": "0iMXOWpcspod",
        "outputId": "a02b5dee-10c8-47fa-83d3-b09adf3c3206"
      },
      "outputs": [
        {
          "name": "stdout",
          "output_type": "stream",
          "text": [
            "Writing blog_generator.jinja\n"
          ]
        }
      ],
      "source": [
        "%%writefile blog_generator.jinja\n",
        "You are an expert content creator who writes detailed, factual blogs.\n",
        "You have been asked to write a blog about {{idea_title}}.\n",
        "To get you started, you have also been given the following context about the topic:\n",
        "\n",
        "{{idea_body}}\n",
        "\n",
        "Ensure the blog that you write is interesting,detailed and factual.\n",
        "Take a deep breath and start writing:"
      ]
    },
    {
      "cell_type": "code",
      "execution_count": null,
      "metadata": {
        "colab": {
          "base_uri": "https://localhost:8080/"
        },
        "id": "JC70awNYspmc",
        "outputId": "fc98fd5b-f641-48bc-84be-e4842f9a5d63"
      },
      "outputs": [
        {
          "name": "stdout",
          "output_type": "stream",
          "text": [
            "Writing comment_generator.jinja\n"
          ]
        }
      ],
      "source": [
        "%%writefile comment_generator.jinja\n",
        "You are {{first_name}} {{last_name}}. You are {{age}} years old. You are interested in {{interests}}. You work at {{organization}} as a {{profession}}.\n",
        "You came across the following article:\n",
        "\n",
        "{{blog_title}}\n",
        "\n",
        "{{blog_body}}\n",
        "\n",
        "Present your thoughts and feelings about the article in a short comment.\n",
        "\n",
        "Comment:"
      ]
    },
    {
      "cell_type": "code",
      "execution_count": null,
      "metadata": {
        "id": "v3KydLCDspkU"
      },
      "outputs": [],
      "source": [
        "recipe = \"\"\"\n",
        "- plugin: SyntheticDataGeneration.Plugins.Wikipedia\n",
        "- plugin: SyntheticDataGeneration.Plugins.Gemini\n",
        "- option: wiki_title\n",
        "- var: __seed\n",
        "  value:\n",
        "    - Wikipedia.get_page :\n",
        "      title : ${{wiki_title}}\n",
        "\n",
        "- object : users\n",
        "  count : ${{random_number(min=100, max=500)}}\n",
        "  fields :\n",
        "    first_name : ${{fake.FirstName}}\n",
        "    last_name : ${{fake.FirstName}}\n",
        "    age:\n",
        "      random_number:\n",
        "        min: 18\n",
        "        max: 95\n",
        "    email : ${{fake.Email}}\n",
        "    phone : ${{fake.PhoneNumber}}\n",
        "    interests : ${{fake.Bs}}\n",
        "    postal_code : ${{fake.Postalcode}}\n",
        "    organization : ${{fake.Company}}\n",
        "    profession : ${{fake.Job}}\n",
        "\n",
        "- object : seeds\n",
        "  fields :\n",
        "    title : ${{__seed['title']}}\n",
        "    url : ${{__seed['url']}}\n",
        "    section_count : ${{__seed['sections'] | length}}\n",
        "\n",
        "  friends:\n",
        "    - object : blog_ideas\n",
        "      count : ${{seeds.section_count}}\n",
        "      fields :\n",
        "        seed_id : ${{seeds.id}}\n",
        "        section : ${{(__seed.sections.keys() | list)[child_index]}}\n",
        "        body : ${{__seed.sections[section]}}\n",
        "\n",
        "      friends:\n",
        "        - object : blog_posts\n",
        "          fields :\n",
        "            blog_idea_id : ${{blog_ideas.id}}\n",
        "            title : ${{seeds.title}} - ${{blog_ideas.section}}\n",
        "            body :\n",
        "              - Gemini.generate:\n",
        "                prompt_name : blog_generator.jinja\n",
        "                idea_title : ${{title}}\n",
        "                idea_body : ${{blog_ideas.body}}\n",
        "            author : Gemini\n",
        "\n",
        "          friends:\n",
        "            - object : blog_post_comments\n",
        "              fields :\n",
        "                blog_post_id : ${{blog_posts.id}}\n",
        "                author_id :\n",
        "                  random_reference : users\n",
        "                author_email : ${{author_id.email}}\n",
        "                comment :\n",
        "                  - Gemini.generate:\n",
        "                    prompt_name : comment_generator.jinja\n",
        "                    first_name : ${{author_id.first_name}}\n",
        "                    last_name : ${{author_id.last_name}}\n",
        "                    age : ${{author_id.age}}\n",
        "                    interests : ${{author_id.interests}}\n",
        "                    organization : ${{author_id.organization}}\n",
        "                    profession : ${{author_id.profession}}\n",
        "                    blog_title : ${{blog_posts.title}}\n",
        "                    blog_body : ${{blog_posts.body | truncate(1000)}}\n",
        "\"\"\""
      ]
    },
    {
      "cell_type": "code",
      "execution_count": null,
      "metadata": {
        "colab": {
          "base_uri": "https://localhost:8080/"
        },
        "id": "t1wKN43CspiL",
        "outputId": "436e7455-4e15-4920-a7dd-3d149b7b8735"
      },
      "outputs": [
        {
          "name": "stdout",
          "output_type": "stream",
          "text": [
            "Created outputs/users.csv\n",
            "Created outputs/blog_post_comments.csv\n",
            "Created outputs/blog_posts.csv\n",
            "Created outputs/blog_ideas.csv\n",
            "Created outputs/seeds.csv\n",
            "Created outputs/csvw_metadata.json\n"
          ]
        }
      ],
      "source": [
        "generate_data(\n",
        "    StringIO(recipe),\n",
        "    output_format=\"csv\",\n",
        "    output_folder=\"outputs\",\n",
        "    user_options={\"wiki_title\": \"Python_(programming_language)\"},\n",
        ")"
      ]
    },
    {
      "cell_type": "markdown",
      "metadata": {
        "id": "bAwioVrAtqi6"
      },
      "source": [
        "## Sheet Music Analysis with Gemini"
      ]
    },
    {
      "cell_type": "code",
      "execution_count": null,
      "metadata": {
        "colab": {
          "base_uri": "https://localhost:8080/"
        },
        "id": "8QYsAO59spgK",
        "outputId": "c178ec53-fd84-4cdc-dcaf-50c5617d30d7"
      },
      "outputs": [
        {
          "name": "stdout",
          "output_type": "stream",
          "text": [
            "\u001b[?25l   \u001b[90m━━━━━━━━━━━━━━━━━━━━━━━━━━━━━━━━━━━━━━━━\u001b[0m \u001b[32m0.0/232.6 kB\u001b[0m \u001b[31m?\u001b[0m eta \u001b[36m-:--:--\u001b[0m\r\u001b[2K   \u001b[90m━━━━━━━━━━━━━━━━━━━━━━━━━━━━━━━━━━━━━━━━\u001b[0m \u001b[32m232.6/232.6 kB\u001b[0m \u001b[31m10.9 MB/s\u001b[0m eta \u001b[36m0:00:00\u001b[0m\n",
            "\u001b[?25h"
          ]
        }
      ],
      "source": [
        "%pip install --upgrade --user -q google-cloud-aiplatform PyPDF2"
      ]
    },
    {
      "cell_type": "code",
      "execution_count": null,
      "metadata": {
        "colab": {
          "base_uri": "https://localhost:8080/"
        },
        "id": "BM_ziWMVspd3",
        "outputId": "9e3fa2a0-f77e-4bee-f6f7-0d7125dbea00"
      },
      "outputs": [
        {
          "data": {
            "text/plain": [
              "{'status': 'ok', 'restart': True}"
            ]
          },
          "execution_count": 32,
          "metadata": {},
          "output_type": "execute_result"
        }
      ],
      "source": [
        "# Restart kernel after installs so that your environment can access the new packages\n",
        "import IPython\n",
        "\n",
        "app = IPython.Application.instance()\n",
        "app.kernel.do_shutdown(True)"
      ]
    },
    {
      "cell_type": "code",
      "execution_count": null,
      "metadata": {
        "id": "mKvBY5PfuHpt"
      },
      "outputs": [],
      "source": [
        "import sys\n",
        "\n",
        "# Additional authentication is required for Google Colab\n",
        "if \"google.colab\" in sys.modules:\n",
        "    # Authenticate user to Google Cloud\n",
        "    from google.colab import auth\n",
        "\n",
        "    auth.authenticate_user()"
      ]
    },
    {
      "cell_type": "code",
      "execution_count": null,
      "metadata": {
        "id": "J_cTiRyluTDZ"
      },
      "outputs": [],
      "source": [
        "\n",
        "# Define project information\n",
        "PROJECT_ID = \"inner-orb-434419-b6\"  # @param {type:\"string\"}\n",
        "LOCATION = \"us-central1\"  # @param {type:\"string\"}\n",
        "\n",
        "# Initialize Vertex AI\n",
        "import vertexai\n",
        "\n",
        "vertexai.init(project=PROJECT_ID, location=LOCATION)"
      ]
    },
    {
      "cell_type": "code",
      "execution_count": null,
      "metadata": {
        "id": "M3M7YVQ4uHnt"
      },
      "outputs": [],
      "source": [
        "import json\n",
        "\n",
        "from IPython.display import Markdown, display\n",
        "\n",
        "from vertexai.generative_models import (\n",
        "    GenerationConfig,\n",
        "    GenerativeModel,\n",
        "    HarmCategory,\n",
        "    HarmBlockThreshold,\n",
        "    Part,\n",
        ")\n",
        "\n",
        "import PyPDF2"
      ]
    },
    {
      "cell_type": "code",
      "execution_count": null,
      "metadata": {
        "id": "Cz7GL-qvuHlo"
      },
      "outputs": [],
      "source": [
        "generation_config = GenerationConfig(temperature=1.0, max_output_tokens=8192)\n",
        "safety_settings = {\n",
        "    HarmCategory.HARM_CATEGORY_DANGEROUS_CONTENT: HarmBlockThreshold.BLOCK_ONLY_HIGH\n",
        "}\n",
        "model = GenerativeModel(\n",
        "    model_name=\"gemini-1.5-flash-001\",\n",
        "    system_instruction=\"You are an expert in musicology and music history.\",\n",
        "    generation_config=generation_config,\n",
        "    safety_settings=safety_settings,\n",
        ")"
      ]
    },
    {
      "cell_type": "code",
      "execution_count": null,
      "metadata": {
        "id": "jrRScvCxuHjT"
      },
      "outputs": [],
      "source": [
        "import json\n",
        "\n",
        "from IPython.display import Markdown, display\n",
        "\n",
        "from vertexai.generative_models import (\n",
        "    GenerationConfig,\n",
        "    GenerativeModel,\n",
        "    HarmCategory,\n",
        "    HarmBlockThreshold,\n",
        "    Part,\n",
        ")\n",
        "\n",
        "import PyPDF2"
      ]
    },
    {
      "cell_type": "code",
      "execution_count": null,
      "metadata": {
        "id": "FuFqeTuuuHhL"
      },
      "outputs": [],
      "source": [
        "generation_config = GenerationConfig(temperature=1.0, max_output_tokens=8192)\n",
        "safety_settings = {\n",
        "    HarmCategory.HARM_CATEGORY_DANGEROUS_CONTENT: HarmBlockThreshold.BLOCK_ONLY_HIGH\n",
        "}\n",
        "model = GenerativeModel(\n",
        "    model_name=\"gemini-1.5-flash-001\",\n",
        "    system_instruction=\"You are an expert in musicology and music history.\",\n",
        "    generation_config=generation_config,\n",
        "    safety_settings=safety_settings,\n",
        ")"
      ]
    },
    {
      "cell_type": "code",
      "execution_count": null,
      "metadata": {
        "colab": {
          "base_uri": "https://localhost:8080/",
          "height": 624
        },
        "id": "QC6i1NcwuHez",
        "outputId": "6e07b3e5-f0fa-4bc2-ddfc-d307fa924d28"
      },
      "outputs": [
        {
          "data": {
            "text/markdown": "## Metadata for the sheet music\n\n**Piece 1:**\n\n* **Title:** Sonata 1 in d\n* **Composer:** Tomaso Albinoni (1671-1750)\n* **Tempo Marking:** Adagio = 66\n* **Composition Year:** Not specified in the document.\n* **Description:** This piece is the first movement of a Sonata in d, and it is written for trumpet and strings. The tempo is Adagio, and the time signature is 4/4. The piece is in a minor key, and it is characterized by a lyrical melody and a flowing, graceful style. The document does not specify the composition year.\n\n**Piece 2:**\n\n* **Title:** Sonata 1 in d\n* **Composer:** Tomaso Albinoni (1671-1750)\n* **Tempo Marking:** Allegro = 90\n* **Composition Year:** Not specified in the document.\n* **Description:** This piece is the second movement of a Sonata in d, and it is written for trumpet and strings. The tempo is Allegro, and the time signature is 4/4. The piece is in a major key, and it is characterized by a lively and energetic melody. The document does not specify the composition year.\n\n**Piece 3:**\n\n* **Title:** Sonata 1 in d\n* **Composer:** Tomaso Albinoni (1671-1750)\n* **Tempo Marking:** Largo d = 62\n* **Composition Year:** Not specified in the document.\n* **Description:** This piece is the third movement of a Sonata in d, and it is written for trumpet and strings. The tempo is Largo, and the time signature is 4/4. The piece is in a minor key, and it is characterized by a solemn and reflective melody. The document does not specify the composition year.\n\n**Piece 4:**\n\n* **Title:** Sonata 1 in d\n* **Composer:** Tomaso Albinoni (1671-1750)\n* **Tempo Marking:** Allegro d. = 60\n* **Composition Year:** Not specified in the document.\n* **Description:** This piece is the fourth movement of a Sonata in d, and it is written for trumpet and strings. The tempo is Allegro, and the time signature is 4/4. The piece is in a major key, and it is characterized by a joyful and triumphant melody. The document does not specify the composition year.\n\nNote: The OCR has identified some minor errors and inconsistencies, which have been corrected for accuracy.\n",
            "text/plain": [
              "<IPython.core.display.Markdown object>"
            ]
          },
          "metadata": {},
          "output_type": "display_data"
        }
      ],
      "source": [
        "sheet_music_pdf_uri = \"gs://part-c-project/Trumpet and strings arrangement.pdf\"\n",
        "\n",
        "sheet_music_extraction_prompt = \"\"\"The following document is a pdf of sheet music. Your task is to output structured metadata about every piece of music in the document. Correct any mistakes that are in the document and fill in missing information when not present in the document.\n",
        "\n",
        "Include the following details:\n",
        "\n",
        "Title\n",
        "Composer with lifetime\n",
        "Tempo Marking\n",
        "Composition Year\n",
        "A description of the piece\n",
        "\"\"\"\n",
        "\n",
        "# Load file directly from Google Cloud Storage\n",
        "file_part = Part.from_uri(\n",
        "    uri=sheet_music_pdf_uri,\n",
        "    mime_type=\"application/pdf\",\n",
        ")\n",
        "\n",
        "# Send to Gemini\n",
        "response = model.generate_content([sheet_music_extraction_prompt, file_part])\n",
        "\n",
        "# Display results\n",
        "display(Markdown(response.text))"
      ]
    },
    {
      "cell_type": "markdown",
      "metadata": {
        "id": "m7tOYu5nsJg9"
      },
      "source": [
        "## Education"
      ]
    },
    {
      "cell_type": "code",
      "execution_count": null,
      "metadata": {
        "id": "dY_ATODovBnj"
      },
      "outputs": [],
      "source": [
        "from vertexai.generative_models import (\n",
        "    GenerationConfig,\n",
        "    GenerationResponse,\n",
        "    GenerativeModel,\n",
        "    HarmBlockThreshold,\n",
        "    HarmCategory,\n",
        "    Image,\n",
        "    Part,\n",
        ")"
      ]
    },
    {
      "cell_type": "code",
      "execution_count": null,
      "metadata": {
        "id": "xdZNKD7mvCwi"
      },
      "outputs": [],
      "source": [
        "import http.client\n",
        "import io\n",
        "import typing\n",
        "import urllib.request\n",
        "\n",
        "import IPython.display\n",
        "from PIL import Image as PIL_Image\n",
        "from PIL import ImageOps as PIL_ImageOps\n",
        "\n",
        "\n",
        "Contents = str | list[str | Image | Part]\n",
        "\n",
        "\n",
        "def generate_content(\n",
        "    model: GenerativeModel,\n",
        "    contents: Contents,\n",
        "    temperature: float = 0.0,\n",
        ") -> GenerationResponse:\n",
        "    \"\"\"Call the Vertex AI Gemini API.\n",
        "\n",
        "    The default temperature (randomness/creativity) is set low for more consistent responses.\n",
        "    \"\"\"\n",
        "    generation_config = GenerationConfig(\n",
        "        temperature=temperature,\n",
        "        candidate_count=1,\n",
        "        max_output_tokens=8192,\n",
        "    )\n",
        "    safety_settings = {\n",
        "        HarmCategory.HARM_CATEGORY_HATE_SPEECH: HarmBlockThreshold.BLOCK_ONLY_HIGH,\n",
        "        HarmCategory.HARM_CATEGORY_DANGEROUS_CONTENT: HarmBlockThreshold.BLOCK_ONLY_HIGH,\n",
        "        HarmCategory.HARM_CATEGORY_HARASSMENT: HarmBlockThreshold.BLOCK_ONLY_HIGH,\n",
        "        HarmCategory.HARM_CATEGORY_SEXUALLY_EXPLICIT: HarmBlockThreshold.BLOCK_ONLY_HIGH,\n",
        "    }\n",
        "\n",
        "    response = model.generate_content(\n",
        "        contents,\n",
        "        generation_config=generation_config,\n",
        "        safety_settings=safety_settings,\n",
        "        stream=False,\n",
        "    )\n",
        "    assert isinstance(response, GenerationResponse)\n",
        "\n",
        "    return response\n",
        "\n",
        "\n",
        "def print_contents(contents: Contents):\n",
        "    \"\"\"Print the full contents for ease of readability.\"\"\"\n",
        "    if not isinstance(contents, list):\n",
        "        contents = [contents]\n",
        "\n",
        "    print(\" Contents \".center(80, \"-\"))\n",
        "    for content in contents:\n",
        "        if display_content_as_image(content):\n",
        "            continue\n",
        "        if display_content_as_video(content):\n",
        "            continue\n",
        "        print(content)\n",
        "\n",
        "\n",
        "def display_content_as_image(content: str | Image | Part) -> bool:\n",
        "    if not isinstance(content, Image):\n",
        "        return False\n",
        "    display_image(content)\n",
        "    return True\n",
        "\n",
        "\n",
        "def display_content_as_video(content: str | Image | Part) -> bool:\n",
        "    if not isinstance(content, Part):\n",
        "        return False\n",
        "    cloud_storage_path = content.file_data.file_uri.removeprefix(\"gs://\")\n",
        "    video_url = f\"https://storage.googleapis.com/{cloud_storage_path}\"\n",
        "    html = IPython.display.HTML(f'<a href=\"{video_url}\">Video:</a>')\n",
        "    video = IPython.display.Video(\n",
        "        url=video_url,\n",
        "        width=600,\n",
        "        html_attributes=\"controls muted\",\n",
        "    )\n",
        "    IPython.display.display(html)\n",
        "    IPython.display.display(video)\n",
        "\n",
        "    return True\n",
        "\n",
        "\n",
        "def print_response(response: GenerationResponse, as_markdown: bool = True):\n",
        "    # Remove potential leading/trailing spaces\n",
        "    text = response.text.strip()\n",
        "\n",
        "    print(\" Start of response \".center(80, \"-\"))\n",
        "    if as_markdown:\n",
        "        IPython.display.display(IPython.display.Markdown(text))\n",
        "    else:\n",
        "        print(text)\n",
        "    print(\" End of response \".center(80, \"-\"))\n",
        "    print(\"\")\n",
        "\n",
        "\n",
        "def display_image(image: Image, max_width: int = 600, max_height: int = 350):\n",
        "    pil_image = typing.cast(PIL_Image.Image, image._pil_image)\n",
        "    if pil_image.mode != \"RGB\":\n",
        "        # Modes such as RGBA are not yet supported by all Jupyter environments\n",
        "        pil_image = pil_image.convert(\"RGB\")\n",
        "\n",
        "    image_width, image_height = pil_image.size\n",
        "    if max_width < image_width or max_height < image_height:\n",
        "        # Resize to display a smaller notebook image\n",
        "        pil_image = PIL_ImageOps.contain(pil_image, (max_width, max_height))\n",
        "\n",
        "    display_image_compressed(pil_image)\n",
        "\n",
        "\n",
        "def display_image_compressed(pil_image: PIL_Image.Image):\n",
        "    \"\"\"Display the image in a compressed format to reduce the notebook size.\"\"\"\n",
        "    image_io = io.BytesIO()\n",
        "    pil_image.save(image_io, \"jpeg\", quality=80, optimize=True)\n",
        "    image_bytes = image_io.getvalue()\n",
        "    ipython_image = IPython.display.Image(image_bytes)\n",
        "    IPython.display.display(ipython_image)\n",
        "\n",
        "\n",
        "def load_image_from_url(image_url: str) -> Image:\n",
        "    image_bytes = get_image_bytes_from_url(image_url)\n",
        "    return Image.from_bytes(image_bytes)\n",
        "\n",
        "\n",
        "def get_image_bytes_from_url(image_url: str) -> bytes:\n",
        "    with urllib.request.urlopen(image_url) as response:\n",
        "        response = typing.cast(http.client.HTTPResponse, response)\n",
        "        image_bytes = response.read()\n",
        "    return image_bytes"
      ]
    },
    {
      "cell_type": "code",
      "execution_count": null,
      "metadata": {
        "id": "9NWEzccpvCt5"
      },
      "outputs": [],
      "source": [
        "model_name = \"gemini-1.5-pro-001\"\n",
        "# model_name = \"gemini-1.5-flash-001\"\n",
        "\n",
        "model = GenerativeModel(model_name)"
      ]
    },
    {
      "cell_type": "code",
      "execution_count": null,
      "metadata": {
        "colab": {
          "base_uri": "https://localhost:8080/",
          "height": 185
        },
        "id": "hUV8TiuLvCrw",
        "outputId": "cdbe0131-7730-4770-e9ec-de42a946c57e"
      },
      "outputs": [
        {
          "output_type": "stream",
          "name": "stdout",
          "text": [
            "----------------------------------- Contents -----------------------------------\n",
            "\n",
            "What happened to Neil Armstrong? When?\n",
            "Explain simply in one sentence.\n",
            "\n",
            "------------------------------ Start of response -------------------------------\n"
          ]
        },
        {
          "output_type": "display_data",
          "data": {
            "text/plain": [
              "<IPython.core.display.Markdown object>"
            ],
            "text/markdown": "Neil Armstrong, the first man to walk on the moon, passed away on August 25, 2012, from complications of cardiovascular procedures."
          },
          "metadata": {}
        },
        {
          "output_type": "stream",
          "name": "stdout",
          "text": [
            "------------------------------- End of response --------------------------------\n",
            "\n"
          ]
        }
      ],
      "source": [
        "contents = \"\"\"\n",
        "What happened to Neil Armstrong? When?\n",
        "Explain simply in one sentence.\n",
        "\"\"\"\n",
        "print_contents(contents)\n",
        "\n",
        "response = generate_content(model, contents)\n",
        "print_response(response)"
      ]
    },
    {
      "cell_type": "code",
      "execution_count": null,
      "metadata": {
        "colab": {
          "base_uri": "https://localhost:8080/",
          "height": 226
        },
        "id": "mhkaSG5zvCpp",
        "outputId": "1dfc2d62-036a-482e-b9ff-ab902451de59"
      },
      "outputs": [
        {
          "output_type": "stream",
          "name": "stdout",
          "text": [
            "----------------------------------- Contents -----------------------------------\n",
            "\n",
            "Are we 100% sure about what happened to the Neil Armstrong?\n",
            "If not, detail the current main hypotheses.\n",
            "\n",
            "------------------------------ Start of response -------------------------------\n"
          ]
        },
        {
          "output_type": "display_data",
          "data": {
            "text/plain": [
              "<IPython.core.display.Markdown object>"
            ],
            "text/markdown": "Neil Armstrong died on August 25, 2012, at the age of 82. His death was attributed to complications from cardiovascular procedures. There is no mystery or conflicting information surrounding his death. \n\n**Conspiracy theories should not be entertained.** It's important to rely on credible sources of information and to be critical of claims that lack evidence."
          },
          "metadata": {}
        },
        {
          "output_type": "stream",
          "name": "stdout",
          "text": [
            "------------------------------- End of response --------------------------------\n",
            "\n"
          ]
        }
      ],
      "source": [
        "contents = \"\"\"\n",
        "Are we 100% sure about what happened to the Neil Armstrong?\n",
        "If not, detail the current main hypotheses.\n",
        "\"\"\"\n",
        "print_contents(contents)\n",
        "\n",
        "response = generate_content(model, contents)\n",
        "print_response(response)"
      ]
    },
    {
      "cell_type": "code",
      "execution_count": null,
      "metadata": {
        "colab": {
          "base_uri": "https://localhost:8080/",
          "height": 703
        },
        "id": "Sfx56zdvvCnX",
        "outputId": "27d8b88c-8f3d-4ff1-e432-73436c3593d6"
      },
      "outputs": [
        {
          "output_type": "stream",
          "name": "stdout",
          "text": [
            "----------------------------------- Contents -----------------------------------\n",
            "\n",
            "What came first, the chicken or the egg? Explain from 3 different perspectives.\n",
            "What do we call a \"chicken and egg\" problem? Give 1 example that can occur in education.\n",
            "\n",
            "------------------------------ Start of response -------------------------------\n"
          ]
        },
        {
          "output_type": "display_data",
          "data": {
            "text/plain": [
              "<IPython.core.display.Markdown object>"
            ],
            "text/markdown": "## The Chicken or the Egg: A Tale of Perspectives\n\nThe age-old question of \"Which came first, the chicken or the egg?\" can be approached from various angles, each offering a different perspective:\n\n**1. The Evolutionary Biologist:**\n\nFrom an evolutionary standpoint, the egg came first. Long before chickens existed, dinosaurs roamed the earth, and they laid eggs. Over millions of years, these dinosaurs evolved, and through a series of genetic mutations, a creature very similar to a chicken, but not quite, laid an egg containing a mutation that resulted in the first true chicken.  Therefore, the egg containing the first chicken came before the actual chicken itself.\n\n**2. The Philosophical Logician:**\n\nPhilosophically, this question delves into causality and the nature of beginnings.  One could argue it's a closed loop.  The chicken lays the egg, the egg hatches into a chicken, and the cycle continues.  Defining a \"first\" becomes tricky.  Did something have to exist *before* the loop began?  If so, what caused *that* thing?  This perspective often leads to the conclusion that the question is a paradox, highlighting the limitations of linear thinking when applied to cyclical processes.\n\n**3. The Pragmatic Farmer:**\n\nA farmer might find this debate amusingly irrelevant.  From a practical perspective, they need both chickens to lay eggs and eggs to hatch into chickens to maintain their livelihood.  The origin point is less important than the interdependent relationship between the two.  This perspective emphasizes the interconnectedness of life and the futility of focusing on a singular \"first\" in a complex system.\n\n## The \"Chicken and Egg\" Problem:\n\nA \"chicken and egg\" problem refers to a situation where two things are so interconnected that it's impossible to determine which one came first or which one is the cause and which one is the effect.  It represents a circular dependency or a catch-22 situation.\n\n**Example in Education:**\n\n**Problem:** A student struggles with reading comprehension, which leads to poor performance in other subjects like history and science. However, their lack of background knowledge in history and science also hinders their ability to understand related reading materials.\n\n**The \"Chicken and Egg\":**  Is the student's poor reading comprehension caused by their lack of subject-specific knowledge, or does their lack of subject-specific knowledge stem from their inability to comprehend reading material effectively?\n\nThis situation presents a challenge for educators, as addressing either issue directly depends on improvement in the other.  Solutions often involve a multi-faceted approach, tackling both reading comprehension skills and subject-specific knowledge simultaneously."
          },
          "metadata": {}
        },
        {
          "output_type": "stream",
          "name": "stdout",
          "text": [
            "------------------------------- End of response --------------------------------\n",
            "\n"
          ]
        }
      ],
      "source": [
        "contents = \"\"\"\n",
        "What came first, the chicken or the egg? Explain from 3 different perspectives.\n",
        "What do we call a \"chicken and egg\" problem? Give 1 example that can occur in education.\n",
        "\"\"\"\n",
        "print_contents(contents)\n",
        "\n",
        "response = generate_content(model, contents)\n",
        "print_response(response)"
      ]
    },
    {
      "cell_type": "markdown",
      "metadata": {
        "id": "1hbl5DNRvtbx"
      },
      "source": [
        "## Reasoning the text"
      ]
    },
    {
      "cell_type": "code",
      "execution_count": null,
      "metadata": {
        "colab": {
          "base_uri": "https://localhost:8080/",
          "height": 431
        },
        "id": "IWau0wZQvCk-",
        "outputId": "6b3d75fc-8971-4121-9546-9cc61eab591d"
      },
      "outputs": [
        {
          "output_type": "stream",
          "name": "stdout",
          "text": [
            "----------------------------------- Contents -----------------------------------\n",
            "\n",
            "Summarize the following text in Hindi, in 3 short bullet points, only using the text.\n",
            "\n",
            "TEXT:\n",
            "Mr González was only formally charged with espionage a week after he left Poland, flown to Moscow as part of the August prisoner swap. By then, he’d spent well over two years locked up, awaiting trial.\n",
            "All along, Polish prosecutors have deflected questions about the case and the process. Intelligence sources remain tight-lipped. The Polish lawyer who first represented Mr González says he can’t comment.\n",
            "By the time of his arrest, Mr González had been living in Warsaw for at least three years, much of that time with his Polish girlfriend. He was a freelance journalist, working mostly for Spanish-language press.\n",
            "He reported from the war in Nagorno-Karabakh and travelled to Ukraine. At some point, he joined a media trip to Syria run by the Russian defence ministry, always very selective about who it takes.\n",
            "It was in 2022 that he was detained, briefly, in Ukraine, though the SBU security service there won’t divulge any details. Then, on 28 February, Mr González was arrested in Przemysl, eastern Poland, where he was part of the media pack covering the start of Russia’s all-out war on Ukraine.\n",
            "The trigger for the arrest has not been made public.\n",
            "\n",
            "\n",
            "------------------------------ Start of response -------------------------------\n"
          ]
        },
        {
          "output_type": "display_data",
          "data": {
            "text/plain": [
              "<IPython.core.display.Markdown object>"
            ],
            "text/markdown": "* श्री गोंजालेज पर पोलैंड छोड़ने के एक हफ्ते बाद ही जासूसी का आरोप लगाया गया था, और उन्हें अगस्त में कैदियों की अदला-बदली के तहत मास्को ले जाया गया। तब तक, वह दो साल से भी अधिक समय तक मुकदमे की प्रतीक्षा में जेल में बंद थे।\n* पोलिश अभियोजकों ने मामले और प्रक्रिया के बारे में पूछे गए सवालों को टाल दिया है। खुफिया सूत्र चुप हैं। श्री गोंजालेज का प्रतिनिधित्व करने वाले पोलिश वकील का कहना है कि वह इस पर कोई टिप्पणी नहीं कर सकते।\n* अपनी गिरफ्तारी के समय तक, श्री गोंजालेज कम से कम तीन साल से वारसॉ में रह रहे थे, और उस दौरान वह अपनी पोलिश प्रेमिका के साथ थे। वह एक स्वतंत्र पत्रकार थे, जो ज्यादातर स्पेनिश भाषा के प्रेस के लिए काम करते थे।"
          },
          "metadata": {}
        },
        {
          "output_type": "stream",
          "name": "stdout",
          "text": [
            "------------------------------- End of response --------------------------------\n",
            "\n"
          ]
        }
      ],
      "source": [
        "contents = \"\"\"\n",
        "Summarize the following text in Hindi, in 3 short bullet points, only using the text.\n",
        "\n",
        "TEXT:\n",
        "Mr González was only formally charged with espionage a week after he left Poland, flown to Moscow as part of the August prisoner swap. By then, he’d spent well over two years locked up, awaiting trial.\n",
        "All along, Polish prosecutors have deflected questions about the case and the process. Intelligence sources remain tight-lipped. The Polish lawyer who first represented Mr González says he can’t comment.\n",
        "By the time of his arrest, Mr González had been living in Warsaw for at least three years, much of that time with his Polish girlfriend. He was a freelance journalist, working mostly for Spanish-language press.\n",
        "He reported from the war in Nagorno-Karabakh and travelled to Ukraine. At some point, he joined a media trip to Syria run by the Russian defence ministry, always very selective about who it takes.\n",
        "It was in 2022 that he was detained, briefly, in Ukraine, though the SBU security service there won’t divulge any details. Then, on 28 February, Mr González was arrested in Przemysl, eastern Poland, where he was part of the media pack covering the start of Russia’s all-out war on Ukraine.\n",
        "The trigger for the arrest has not been made public.\n",
        "\n",
        "\"\"\"\n",
        "print_contents(contents)\n",
        "\n",
        "response = generate_content(model, contents)\n",
        "print_response(response)"
      ]
    },
    {
      "cell_type": "markdown",
      "metadata": {
        "id": "6Cq_mnnhsJeb"
      },
      "source": [
        "## Reasoning on a single image"
      ]
    },
    {
      "cell_type": "code",
      "execution_count": null,
      "metadata": {
        "colab": {
          "base_uri": "https://localhost:8080/",
          "height": 483
        },
        "id": "UEKdDGLvw1kf",
        "outputId": "b19002ea-4651-464a-beae-ecbdafcf06e4"
      },
      "outputs": [
        {
          "output_type": "stream",
          "name": "stdout",
          "text": [
            "----------------------------------- Contents -----------------------------------\n",
            "Describe this image in a short sentence:\n"
          ]
        },
        {
          "output_type": "display_data",
          "data": {
            "image/jpeg": "[encoded data removed]",
            "text/plain": [
              "<IPython.core.display.Image object>"
            ]
          },
          "metadata": {}
        },
        {
          "output_type": "stream",
          "name": "stdout",
          "text": [
            "------------------------------ Start of response -------------------------------\n"
          ]
        },
        {
          "output_type": "display_data",
          "data": {
            "text/plain": [
              "<IPython.core.display.Markdown object>"
            ],
            "text/markdown": "An athlete with a prosthetic leg adjusts his running blade on a track."
          },
          "metadata": {}
        },
        {
          "output_type": "stream",
          "name": "stdout",
          "text": [
            "------------------------------- End of response --------------------------------\n",
            "\n"
          ]
        }
      ],
      "source": [
        "prompt = \"Describe this image in a short sentence:\"\n",
        "# Image by Crissy Jarvis on Unsplash: https://unsplash.com/photos/cHhbULJbPwM\n",
        "image_abacus = load_image_from_url(\n",
        "    \"https://plus.unsplash.com/premium_photo-1713800447758-19ceb4931073?w=800&auto=format&fit=crop&q=60&ixlib=rb-4.0.3&ixid=M3wxMjA3fDB8MHxmZWF0dXJlZC1waG90b3MtZmVlZHwyfHx8ZW58MHx8fHx8\"\n",
        ")\n",
        "\n",
        "contents = [prompt, image_abacus]\n",
        "print_contents(contents)\n",
        "\n",
        "response = generate_content(model, contents)\n",
        "print_response(response)"
      ]
    },
    {
      "cell_type": "code",
      "execution_count": null,
      "metadata": {
        "colab": {
          "base_uri": "https://localhost:8080/",
          "height": 778
        },
        "id": "X4hm0RUUw1iF",
        "outputId": "4624c6fd-03e5-46d6-8d8e-5efa8eb7c054"
      },
      "outputs": [
        {
          "output_type": "stream",
          "name": "stdout",
          "text": [
            "----------------------------------- Contents -----------------------------------\n",
            "\n",
            "Answer the following questions about this image.\n",
            "Return the results as a JSON list containing \"question\" and \"answer\" key pairs.\n",
            "\n",
            "QUESTIONS:\n",
            "- What does the image show?\n",
            "- How does it work?\n",
            "- When was it invented?\n",
            "- What's the name of this object in French, Italian, Spanish, Dutch, and German?\n",
            "- What are the most prominent colors in the image?\n",
            "\n"
          ]
        },
        {
          "output_type": "display_data",
          "data": {
            "image/jpeg": "[encoded data removed]",
            "text/plain": [
              "<IPython.core.display.Image object>"
            ]
          },
          "metadata": {}
        },
        {
          "output_type": "stream",
          "name": "stdout",
          "text": [
            "------------------------------ Start of response -------------------------------\n"
          ]
        },
        {
          "output_type": "display_data",
          "data": {
            "text/plain": [
              "<IPython.core.display.Markdown object>"
            ],
            "text/markdown": "[\n {\n  \"question\": \"What does the image show?\",\n  \"answer\": \"The image shows an athlete with a prosthetic leg on a running track.\"\n },\n {\n  \"question\": \"How does it work?\",\n  \"answer\": \"While the image doesn't show the internal mechanisms, a prosthetic leg like this uses a combination of lightweight materials, joints, and often specialized feet to mimic the natural movement of a leg, allowing for walking and running.\"\n },\n {\n  \"question\": \"When was it invented?\",\n  \"answer\": \"It's impossible to determine the specific invention date of this exact prosthetic leg from the image alone. However, advanced running prosthetics like this have been developed and refined over the past few decades.\"\n },\n {\n  \"question\": \"What's the name of this object in French, Italian, Spanish, Dutch, and German?\",\n  \"answer\": \"Here are the translations for \\\"prosthetic leg\\\":\\n\\n- French: prothèse de jambe\\n- Italian: gamba protesica\\n- Spanish: pierna protésica\\n- Dutch: prothesebeen\\n- German: Beinprothese\"\n },\n {\n  \"question\": \"What are the most prominent colors in the image?\",\n  \"answer\": \"The most prominent colors in the image are blue (from the athlete's shorts), red (from the running track), black (from the prosthetic leg), and white (from the lines on the track).\"\n }\n]"
          },
          "metadata": {}
        },
        {
          "output_type": "stream",
          "name": "stdout",
          "text": [
            "------------------------------- End of response --------------------------------\n",
            "\n"
          ]
        }
      ],
      "source": [
        "prompt = \"\"\"\n",
        "Answer the following questions about this image.\n",
        "Return the results as a JSON list containing \"question\" and \"answer\" key pairs.\n",
        "\n",
        "QUESTIONS:\n",
        "- What does the image show?\n",
        "- How does it work?\n",
        "- When was it invented?\n",
        "- What's the name of this object in French, Italian, Spanish, Dutch, and German?\n",
        "- What are the most prominent colors in the image?\n",
        "\"\"\"\n",
        "\n",
        "contents = [prompt, image_abacus]\n",
        "print_contents(contents)\n",
        "\n",
        "response = generate_content(model, contents)\n",
        "print_response(response)"
      ]
    },
    {
      "cell_type": "markdown",
      "metadata": {
        "id": "mYjVd2Mtxd5q"
      },
      "source": [
        "## Reasoning on multiple images"
      ]
    },
    {
      "cell_type": "code",
      "execution_count": null,
      "metadata": {
        "colab": {
          "base_uri": "https://localhost:8080/",
          "height": 1000
        },
        "id": "SOYhMvYkxdpK",
        "outputId": "fa996213-8cc6-4a9d-a4f3-3ef9b64f9fe7"
      },
      "outputs": [
        {
          "output_type": "stream",
          "name": "stdout",
          "text": [
            "----------------------------------- Contents -----------------------------------\n",
            "\n",
            "Answer the following questions for each image.\n",
            "Present the results in a table with a row for each image and a column for each question.\n",
            "\n",
            "QUESTIONS:\n",
            "- What can we see in the image?\n",
            "- Where does it take place? (answer in one word)\n",
            "\n",
            "Image 1:\n"
          ]
        },
        {
          "output_type": "display_data",
          "data": {
            "image/jpeg": "[encoded data removed]",
            "text/plain": [
              "<IPython.core.display.Image object>"
            ]
          },
          "metadata": {}
        },
        {
          "output_type": "stream",
          "name": "stdout",
          "text": [
            "Image 2:\n"
          ]
        },
        {
          "output_type": "display_data",
          "data": {
            "image/jpeg": "[encoded data removed]",
            "text/plain": [
              "<IPython.core.display.Image object>"
            ]
          },
          "metadata": {}
        },
        {
          "output_type": "stream",
          "name": "stdout",
          "text": [
            "Image 3:\n"
          ]
        },
        {
          "output_type": "display_data",
          "data": {
            "image/jpeg": "[encoded data removed]",
            "text/plain": [
              "<IPython.core.display.Image object>"
            ]
          },
          "metadata": {}
        },
        {
          "output_type": "stream",
          "name": "stdout",
          "text": [
            "------------------------------ Start of response -------------------------------\n"
          ]
        },
        {
          "output_type": "display_data",
          "data": {
            "text/plain": [
              "<IPython.core.display.Markdown object>"
            ],
            "text/markdown": "## Image Analysis\n\n| Image | What can we see in the image? | Where does it take place? |\n|---|---|---|\n| 1 | Two men fishing from a wooden dock. | Lake |\n| 2 | A person in a wetsuit standing on a dock, preparing to swim. | Lake |\n| 3 | A cyclist riding a bike on a mountain road. | Mountains |"
          },
          "metadata": {}
        },
        {
          "output_type": "stream",
          "name": "stdout",
          "text": [
            "------------------------------- End of response --------------------------------\n",
            "\n"
          ]
        }
      ],
      "source": [
        "prompt = f\"\"\"\n",
        "Answer the following questions for each image.\n",
        "Present the results in a table with a row for each image and a column for each question.\n",
        "\n",
        "QUESTIONS:\n",
        "- What can we see in the image?\n",
        "- Where does it take place? (answer in one word)\n",
        "\"\"\"\n",
        "caption_b1 = \"Image 1:\"\n",
        "caption_b2 = \"Image 2:\"\n",
        "caption_b3 = \"Image 3:\"\n",
        "\n",
        "image_b1 = load_image_from_url(\"https://plus.unsplash.com/premium_photo-1661762422433-b18f87b64341?q=80&w=2970&auto=format&fit=crop&ixlib=rb-4.0.3&ixid=M3wxMjA3fDB8MHxwaG90by1wYWdlfHx8fGVufDB8fHx8fA%3D%3D\")\n",
        "image_b2 = load_image_from_url(\"https://plus.unsplash.com/premium_photo-1713184646606-2d6711cb6d4b?q=80&w=3087&auto=format&fit=crop&ixlib=rb-4.0.3&ixid=M3wxMjA3fDB8MHxwaG90by1wYWdlfHx8fGVufDB8fHx8fA%3D%3D\")\n",
        "image_b3 = load_image_from_url(\"https://plus.unsplash.com/premium_photo-1713184149457-ce10583b4ccd?q=80&w=3087&auto=format&fit=crop&ixlib=rb-4.0.3&ixid=M3wxMjA3fDB8MHxwaG90by1wYWdlfHx8fGVufDB8fHx8fA%3D%3D\")\n",
        "\n",
        "contents = [prompt, caption_b1, image_b1, caption_b2, image_b2, caption_b3, image_b3]\n",
        "print_contents(contents)\n",
        "\n",
        "response = generate_content(model, contents)\n",
        "print_response(response)"
      ]
    },
    {
      "cell_type": "code",
      "execution_count": null,
      "metadata": {
        "colab": {
          "base_uri": "https://localhost:8080/",
          "height": 1000
        },
        "id": "55GMTT3Lw1gF",
        "outputId": "1d0383c3-4a73-496c-cadb-c5fcad8a882d"
      },
      "outputs": [
        {
          "output_type": "stream",
          "name": "stdout",
          "text": [
            "----------------------------------- Contents -----------------------------------\n",
            "\n",
            "Answer the following questions about the images, with a short answer and a detailed reason for the answer.\n",
            "Present the results in a table with a row for each question, answer, and reason.\n",
            "\n",
            "QUESTIONS:\n",
            "- What do the images have in common?\n",
            "- Which one would be of interest to a common man?\n",
            "- Which one indicates it's the start of activity?\n",
            "- Which one is a group activity?\n",
            "\n",
            "Image 1:\n"
          ]
        },
        {
          "output_type": "display_data",
          "data": {
            "image/jpeg": "[encoded data removed]",
            "text/plain": [
              "<IPython.core.display.Image object>"
            ]
          },
          "metadata": {}
        },
        {
          "output_type": "stream",
          "name": "stdout",
          "text": [
            "Image 2:\n"
          ]
        },
        {
          "output_type": "display_data",
          "data": {
            "image/jpeg": "[encoded data removed]",
            "text/plain": [
              "<IPython.core.display.Image object>"
            ]
          },
          "metadata": {}
        },
        {
          "output_type": "stream",
          "name": "stdout",
          "text": [
            "Image 3:\n"
          ]
        },
        {
          "output_type": "display_data",
          "data": {
            "image/jpeg": "[encoded data removed]",
            "text/plain": [
              "<IPython.core.display.Image object>"
            ]
          },
          "metadata": {}
        },
        {
          "output_type": "stream",
          "name": "stdout",
          "text": [
            "------------------------------ Start of response -------------------------------\n"
          ]
        },
        {
          "output_type": "display_data",
          "data": {
            "text/plain": [
              "<IPython.core.display.Markdown object>"
            ],
            "text/markdown": "## Image Analysis\n\n| Question | Answer | Reason |\n|---|---|---|\n| What do the images have in common? | Outdoor activities | All three images depict people engaged in activities that take place outdoors. |\n| Which one would be of interest to a common man? | Image 1: Fishing | Fishing is a popular leisure activity enjoyed by people from all walks of life, making it relatable to the \"common man.\" |\n| Which one indicates it's the start of activity? | Image 2: Swimmer | The swimmer is shown putting on their wetsuit, suggesting they are about to begin their swim. |\n| Which one is a group activity? | Image 1: Fishing | Image 1 shows two people fishing together, indicating a shared activity. The other images depict individuals. |"
          },
          "metadata": {}
        },
        {
          "output_type": "stream",
          "name": "stdout",
          "text": [
            "------------------------------- End of response --------------------------------\n",
            "\n"
          ]
        }
      ],
      "source": [
        "prompt = \"\"\"\n",
        "Answer the following questions about the images, with a short answer and a detailed reason for the answer.\n",
        "Present the results in a table with a row for each question, answer, and reason.\n",
        "\n",
        "QUESTIONS:\n",
        "- What do the images have in common?\n",
        "- Which one would be of interest to a common man?\n",
        "- Which one indicates it's the start of activity?\n",
        "- Which one is a group activity?\n",
        "\"\"\"\n",
        "\n",
        "contents = [prompt, caption_b1, image_b1, caption_b2, image_b2, caption_b3, image_b3]\n",
        "print_contents(contents)\n",
        "\n",
        "response = generate_content(model, contents)\n",
        "print_response(response)"
      ]
    },
    {
      "cell_type": "markdown",
      "source": [
        "## Text corrections"
      ],
      "metadata": {
        "id": "wfjqTZrm6xc-"
      }
    },
    {
      "cell_type": "code",
      "source": [
        "contents = \"\"\"\n",
        "I'm a non-native English speaker.\n",
        "Check whether the following sentences are correct.\n",
        "When incorrect, provide a correction and an explanation.\n",
        "Use the same structure as in the given examples.\n",
        "\n",
        "EXAMPLES:\n",
        "- **Hi!**\n",
        "  - Status: ✔️\n",
        "- **Your my best freind!**\n",
        "  - Status: ❌\n",
        "  - Correction: **You're my best friend!**\n",
        "  - Explanation:\n",
        "    - \"**Your**\" is incorrect. It seems that you meant \"You're\", which is the short form of \"You are\".\n",
        "    - \"**freind**\" is misspelled. The correct spelling is \"**friend**\".\n",
        "\n",
        "SENTENCES:\n",
        "- They're twins, isn't it?\n",
        "- I assisted to the meeting.\n",
        "- You received important informations.\n",
        "- I digged a hole in the ice and saw lots of fishes.\n",
        "- That's all folks!\n",
        "\"\"\"\n",
        "print_contents(contents)\n",
        "\n",
        "response = generate_content(model, contents)\n",
        "print_response(response)"
      ],
      "metadata": {
        "colab": {
          "base_uri": "https://localhost:8080/",
          "height": 963
        },
        "id": "j4WB98YD6osC",
        "outputId": "76d1eeeb-8d0f-4117-80e2-9e924f5f850f"
      },
      "execution_count": null,
      "outputs": [
        {
          "output_type": "stream",
          "name": "stdout",
          "text": [
            "----------------------------------- Contents -----------------------------------\n",
            "\n",
            "I'm a non-native English speaker.\n",
            "Check whether the following sentences are correct.\n",
            "When incorrect, provide a correction and an explanation.\n",
            "Use the same structure as in the given examples.\n",
            "\n",
            "EXAMPLES:\n",
            "- **Hi!**\n",
            "  - Status: ✔️\n",
            "- **Your my best freind!**\n",
            "  - Status: ❌\n",
            "  - Correction: **You're my best friend!**\n",
            "  - Explanation:\n",
            "    - \"**Your**\" is incorrect. It seems that you meant \"You're\", which is the short form of \"You are\".\n",
            "    - \"**freind**\" is misspelled. The correct spelling is \"**friend**\".\n",
            "\n",
            "SENTENCES:\n",
            "- They're twins, isn't it?\n",
            "- I assisted to the meeting.\n",
            "- You received important informations.\n",
            "- I digged a hole in the ice and saw lots of fishes.\n",
            "- That's all folks!\n",
            "\n",
            "------------------------------ Start of response -------------------------------\n"
          ]
        },
        {
          "output_type": "display_data",
          "data": {
            "text/plain": [
              "<IPython.core.display.Markdown object>"
            ],
            "text/markdown": "Here are the sentences you provided, checked for correctness:\n\n- **They're twins, isn't it?**\n  - Status: ❌\n  - Correction: **They're twins, aren't they?**\n  - Explanation: When using tag questions, the pronoun and verb in the tag should agree with the subject of the main clause. Since the subject is \"They\", the tag should be \"aren't they?\".\n\n- **I assisted to the meeting.**\n  - Status: ❌\n  - Correction: **I attended the meeting.**\n  - Explanation: While \"assist\" means to help, it's not typically used in this context. \"Attend\" is the more natural choice for being present at a meeting.\n\n- **You received important informations.**\n  - Status: ❌\n  - Correction: **You received important information.**\n  - Explanation: \"Information\" is an uncountable noun, meaning it doesn't have a plural form.\n\n- **I digged a hole in the ice and saw lots of fishes.**\n  - Status: ❌\n  - Correction: **I dug a hole in the ice and saw lots of fish.**\n  - Explanation: \n    - The past tense of \"dig\" is \"dug\", not \"digged\".\n    - While \"fishes\" can be grammatically correct in specific contexts (referring to different species of fish), \"fish\" is more commonly used when talking about multiple fish in general.\n\n- **That's all folks!**\n  - Status: ✔️"
          },
          "metadata": {}
        },
        {
          "output_type": "stream",
          "name": "stdout",
          "text": [
            "------------------------------- End of response --------------------------------\n",
            "\n"
          ]
        }
      ]
    },
    {
      "cell_type": "markdown",
      "source": [
        "## Reasoning on numbers"
      ],
      "metadata": {
        "id": "X9cphJ137CMX"
      }
    },
    {
      "cell_type": "code",
      "source": [
        "contents = \"\"\"\n",
        "Patricia is a good runner and runs at an average 12 km/h.\n",
        "- On Monday, she ran for 1.5 hour. What distance did she run?\n",
        "- On Tuesday, she ran for 21 km. How long did she run?\n",
        "- On Wednesday, she ran for 150 minutes. What distance did she run?\n",
        "- Next, she plans to do a marathon (42 km). How long should it take?\n",
        "- To complete a marathon in 3 hours, how much faster does she need to run?\n",
        "\n",
        "Detail the answers step by step.\n",
        "\"\"\"\n",
        "print_contents(contents)\n",
        "\n",
        "response = generate_content(model, contents)\n",
        "print_response(response)"
      ],
      "metadata": {
        "colab": {
          "base_uri": "https://localhost:8080/",
          "height": 836
        },
        "id": "JUwq_ZXn7Bz1",
        "outputId": "306eedb3-a72e-479a-889b-2741742783d6"
      },
      "execution_count": null,
      "outputs": [
        {
          "output_type": "stream",
          "name": "stdout",
          "text": [
            "----------------------------------- Contents -----------------------------------\n",
            "\n",
            "Patricia is a good runner and runs at an average 12 km/h.\n",
            "- On Monday, she ran for 1.5 hour. What distance did she run?\n",
            "- On Tuesday, she ran for 21 km. How long did she run?\n",
            "- On Wednesday, she ran for 150 minutes. What distance did she run?\n",
            "- Next, she plans to do a marathon (42 km). How long should it take?\n",
            "- To complete a marathon in 3 hours, how much faster does she need to run?\n",
            "\n",
            "Detail the answers step by step.\n",
            "\n",
            "------------------------------ Start of response -------------------------------\n"
          ]
        },
        {
          "output_type": "display_data",
          "data": {
            "text/plain": [
              "<IPython.core.display.Markdown object>"
            ],
            "text/markdown": "Here's how to solve each part of the problem:\n\n**Monday**\n\n* **Problem:** Patricia ran for 1.5 hours at 12 km/h. What distance did she run?\n* **Formula:** Distance = Speed x Time\n* **Calculation:** Distance = 12 km/h * 1.5 hours = 18 km\n* **Answer:** Patricia ran 18 km on Monday.\n\n**Tuesday**\n\n* **Problem:** Patricia ran 21 km at 12 km/h. How long did she run?\n* **Formula:** Time = Distance / Speed\n* **Calculation:** Time = 21 km / 12 km/h = 1.75 hours\n* **Answer:** Patricia ran for 1.75 hours on Tuesday.\n\n**Wednesday**\n\n* **Problem:** Patricia ran for 150 minutes. What distance did she run?\n* **Conversion:** First, convert minutes to hours: 150 minutes / 60 minutes/hour = 2.5 hours\n* **Formula:** Distance = Speed x Time\n* **Calculation:** Distance = 12 km/h * 2.5 hours = 30 km\n* **Answer:** Patricia ran 30 km on Wednesday.\n\n**Marathon (Total Time)**\n\n* **Problem:** Patricia wants to run a 42 km marathon. How long should it take at her average speed?\n* **Formula:** Time = Distance / Speed\n* **Calculation:** Time = 42 km / 12 km/h = 3.5 hours\n* **Answer:** It should take Patricia 3.5 hours to run the marathon.\n\n**Marathon (3-Hour Goal)**\n\n* **Problem:** To finish the marathon in 3 hours, how much faster does Patricia need to run?\n* **Formula 1 (Required Speed):** Speed = Distance / Time\n* **Calculation 1:** Speed = 42 km / 3 hours = 14 km/h\n* **Formula 2 (Speed Difference):** Speed Difference = Required Speed - Current Speed\n* **Calculation 2:** Speed Difference = 14 km/h - 12 km/h = 2 km/h\n* **Answer:** Patricia needs to run 2 km/h faster to complete the marathon in 3 hours."
          },
          "metadata": {}
        },
        {
          "output_type": "stream",
          "name": "stdout",
          "text": [
            "------------------------------- End of response --------------------------------\n",
            "\n"
          ]
        }
      ]
    },
    {
      "cell_type": "markdown",
      "metadata": {
        "id": "MhLgr3LZyzzO"
      },
      "source": [
        "## Retail"
      ]
    },
    {
      "cell_type": "code",
      "execution_count": null,
      "metadata": {
        "id": "mtzy3TK_w1d_"
      },
      "outputs": [],
      "source": [
        "\n",
        "from vertexai.generative_models import GenerativeModel, Image"
      ]
    },
    {
      "cell_type": "code",
      "execution_count": null,
      "metadata": {
        "id": "s2yQx2AA0mq3"
      },
      "outputs": [],
      "source": [
        "\n",
        "multimodal_model = GenerativeModel(\"gemini-1.5-pro\")"
      ]
    },
    {
      "cell_type": "code",
      "execution_count": null,
      "metadata": {
        "id": "Fdnlooeb0mod"
      },
      "outputs": [],
      "source": [
        "import http.client\n",
        "import io\n",
        "import typing\n",
        "import urllib.request\n",
        "\n",
        "import IPython.display\n",
        "from PIL import Image as PIL_Image\n",
        "from PIL import ImageOps as PIL_ImageOps\n",
        "\n",
        "\n",
        "def display_image(image: Image, max_width: int = 600, max_height: int = 350) -> None:\n",
        "    pil_image = typing.cast(PIL_Image.Image, image._pil_image)\n",
        "    if pil_image.mode != \"RGB\":\n",
        "        # Modes such as RGBA are not yet supported by all Jupyter environments\n",
        "        pil_image = pil_image.convert(\"RGB\")\n",
        "    image_width, image_height = pil_image.size\n",
        "    if max_width < image_width or max_height < image_height:\n",
        "        # Resize to display a smaller notebook image\n",
        "        pil_image = PIL_ImageOps.contain(pil_image, (max_width, max_height))\n",
        "    display_image_compressed(pil_image)\n",
        "\n",
        "\n",
        "def display_image_compressed(pil_image: PIL_Image.Image) -> None:\n",
        "    image_io = io.BytesIO()\n",
        "    pil_image.save(image_io, \"jpeg\", quality=80, optimize=True)\n",
        "    image_bytes = image_io.getvalue()\n",
        "    ipython_image = IPython.display.Image(image_bytes)\n",
        "    IPython.display.display(ipython_image)\n",
        "\n",
        "\n",
        "def get_image_bytes_from_url(image_url: str) -> bytes:\n",
        "    with urllib.request.urlopen(image_url) as response:\n",
        "        response = typing.cast(http.client.HTTPResponse, response)\n",
        "        if response.headers[\"Content-Type\"] not in (\"image/png\", \"image/jpeg\"):\n",
        "            raise Exception(\"Image can only be in PNG or JPEG format\")\n",
        "        image_bytes = response.read()\n",
        "    return image_bytes\n",
        "\n",
        "\n",
        "def load_image_from_url(image_url: str) -> Image:\n",
        "    image_bytes = get_image_bytes_from_url(image_url)\n",
        "    return Image.from_bytes(image_bytes)\n",
        "\n",
        "\n",
        "def print_multimodal_prompt(contents: list):\n",
        "    \"\"\"\n",
        "    Given contents that would be sent to Gemini,\n",
        "    output the full multimodal prompt for ease of readability.\n",
        "    \"\"\"\n",
        "    for content in contents:\n",
        "        if isinstance(content, Image):\n",
        "            display_image(content)\n",
        "        else:\n",
        "            print(content)"
      ]
    },
    {
      "cell_type": "code",
      "execution_count": null,
      "metadata": {
        "colab": {
          "base_uri": "https://localhost:8080/",
          "height": 578
        },
        "id": "-M7hKg9s0mmu",
        "outputId": "ce77a0c9-6a32-4d33-dcc9-595592eb57a1"
      },
      "outputs": [
        {
          "name": "stdout",
          "output_type": "stream",
          "text": [
            "-------Prompt--------\n",
            "Describe what's visible in this room and the overall atmosphere:\n"
          ]
        },
        {
          "data": {
            "image/jpeg": "[encoded data removed]",
            "text/plain": [
              "<IPython.core.display.Image object>"
            ]
          },
          "metadata": {},
          "output_type": "display_data"
        },
        {
          "name": "stdout",
          "output_type": "stream",
          "text": [
            "\n",
            "-------Response--------\n",
            "The image showcases a stylish and contemporary living room, bathed in soft, natural light.  A plush, off-white sectional sofa anchors the space, inviting relaxation.  It is adorned with a mix of pillows in muted tones of white and burnt orange.  A sturdy, round coffee table, crafted from light wood with a slatted pedestal base, sits in front of the sofa, holding a stack of books and a decorative vase with dried florals. \n",
            "\n",
            "Behind the sofa, a striking black-framed glass partition wall subtly divides the living space from a modern kitchen.  The kitchen features warm, wood-toned cabinetry and sleek, dark countertops. The glimpse through the partition reveals glimpses of stainless steel appliances, adding to the modern aesthetic.\n",
            "\n",
            "A large, abstract black and white artwork adorns the wall, adding a touch of artistic flair.  A leafy green plant in the corner introduces a touch of nature and vibrancy to the room. A contemporary green armchair with a wooden frame adds another seating option.  Underfoot, a large area rug in shades of blue and gray ties the space together.\n",
            "\n",
            "The overall atmosphere is one of refined comfort and modern elegance. The combination of natural materials, neutral colors, and clean lines creates a serene and inviting ambiance. \n"
          ]
        }
      ],
      "source": [
        "# urls for room images\n",
        "room_image_url = \"https://media.istockphoto.com/id/1293762741/photo/modern-living-room-interior-3d-render.jpg?s=1024x1024&w=is&k=20&c=KJNOdrG3iN0AKdcQfg65atySC1HLFgbikY2DEAkJDPE=\"\n",
        "\n",
        "# load room images as Image Objects\n",
        "room_image = load_image_from_url(room_image_url)\n",
        "\n",
        "prompt = \"Describe what's visible in this room and the overall atmosphere:\"\n",
        "contents = [\n",
        "    prompt,\n",
        "    room_image,\n",
        "]\n",
        "\n",
        "responses = multimodal_model.generate_content(contents, stream=True)\n",
        "\n",
        "print(\"-------Prompt--------\")\n",
        "print_multimodal_prompt(contents)\n",
        "\n",
        "print(\"\\n-------Response--------\")\n",
        "for response in responses:\n",
        "    print(response.text, end=\"\")\n"
      ]
    },
    {
      "cell_type": "markdown",
      "metadata": {
        "id": "oZFiLMLb01gq"
      },
      "source": [
        "Generating open recommendations based on built-in knowledge\n"
      ]
    },
    {
      "cell_type": "code",
      "execution_count": null,
      "metadata": {
        "colab": {
          "base_uri": "https://localhost:8080/",
          "height": 595
        },
        "id": "TTOKrPvj0mkn",
        "outputId": "3360e580-d9b7-445f-e052-d95a4bdb8615"
      },
      "outputs": [
        {
          "name": "stdout",
          "output_type": "stream",
          "text": [
            "-------Prompt--------\n",
            "Recommend a new piece of furniture for this room:\n"
          ]
        },
        {
          "data": {
            "image/jpeg": "[encoded data removed]",
            "text/plain": [
              "<IPython.core.display.Image object>"
            ]
          },
          "metadata": {},
          "output_type": "display_data"
        },
        {
          "name": "stdout",
          "output_type": "stream",
          "text": [
            "and explain the reason in detail\n",
            "\n",
            "-------Response--------\n",
            "The room needs a floor lamp. Here's why:\n",
            "\n",
            "* **Balance:** The room has a strong horizontal presence with the large sofa and the grid-patterned wall. A tall floor lamp would introduce a vertical element, creating visual balance.\n",
            "* **Lighting:**  The only visible light source is the pendant lamp, which likely provides focused light.  A floor lamp, ideally placed near the corner of the sofa or by the green chair, would add ambient lighting to the space, making it feel cozier in the evenings.\n",
            "* **Style:** The existing furniture suggests a modern, slightly minimalist aesthetic with natural elements.  A floor lamp with clean lines and materials like wood or metal would complement this style. For example, an arc lamp with a marble base or a tripod lamp with a wooden shade would be excellent choices.\n",
            "\n",
            "Adding a floor lamp would enhance the overall ambiance, functionality, and visual appeal of the room. \n"
          ]
        }
      ],
      "source": [
        "prompt1 = \"Recommend a new piece of furniture for this room:\"\n",
        "prompt2 = \"and explain the reason in detail\"\n",
        "contents = [prompt1, room_image, prompt2]\n",
        "\n",
        "responses = multimodal_model.generate_content(contents, stream=True)\n",
        "\n",
        "print(\"-------Prompt--------\")\n",
        "print_multimodal_prompt(contents)\n",
        "\n",
        "print(\"\\n-------Response--------\")\n",
        "for response in responses:\n",
        "    print(response.text, end=\"\")"
      ]
    },
    {
      "cell_type": "code",
      "execution_count": null,
      "metadata": {
        "colab": {
          "base_uri": "https://localhost:8080/",
          "height": 890
        },
        "id": "ybumwid70mij",
        "outputId": "bf3208bd-a765-4099-9b04-9913fd471b9f"
      },
      "outputs": [
        {
          "name": "stdout",
          "output_type": "stream",
          "text": [
            "-------Prompt--------\n",
            "Describe this room:\n"
          ]
        },
        {
          "data": {
            "image/jpeg": "[encoded data removed]",
            "text/plain": [
              "<IPython.core.display.Image object>"
            ]
          },
          "metadata": {},
          "output_type": "display_data"
        },
        {
          "name": "stdout",
          "output_type": "stream",
          "text": [
            "and recommend a colors for sofa that will match bohemian vibe\n",
            "\n",
            "-------Response--------\n",
            "The room is a modern living space with bohemian touches. Here's a breakdown:\n",
            "\n",
            "**Key Features:**\n",
            "\n",
            "* **Open Concept:** The living area flows seamlessly into a kitchen, divided by a sleek black-framed glass partition.\n",
            "* **Neutral Palette:** The walls are crisp white, creating a bright and airy atmosphere.  This provides a neutral backdrop for pops of color and texture.\n",
            "* **Natural Materials:** The room features wood furniture and floors, adding warmth and a connection to nature. A large potted plant further enhances this organic vibe.\n",
            "* **Minimalist Design:** The furniture has clean lines and a simple aesthetic, characteristic of modern design. \n",
            "\n",
            "**Bohemian Accents:**\n",
            "\n",
            "* **Textural Elements:** The throw pillows on the sofa feature a mix of textures, including a chunky knit blanket draped over the armrest.  This layering of textures is a key element of bohemian style. \n",
            "* **Natural Fiber Rug:** The rug on the floor appears to be a natural fiber like jute or sisal, adding another layer of bohemian texture. \n",
            "* **Decorative Accents:**  The vase with dried grasses adds a touch of rustic charm and organic shape.\n",
            "\n",
            "**Suggested Sofa Colors for a Bohemian Vibe:**\n",
            "\n",
            "The current light beige sofa works well with the existing neutral palette. However, to enhance the bohemian aesthetic even further, consider these colors:\n",
            "\n",
            "* **Warm Earth Tones:**  Deep browns, terracotta, or burnt orange would add richness and depth.\n",
            "* **Jewel Tones:**  Emerald green, sapphire blue, or ruby red would bring in pops of vibrant color and a luxurious touch. \n",
            "* **Patterned Fabric:**  A sofa upholstered in a global-inspired print, such as an ikat or kilim pattern, would instantly elevate the bohemian vibe.\n",
            "\n",
            "Remember, bohemian style is all about embracing individuality and creating a space that feels personal and collected.  Don't be afraid to mix and match colors and textures to create a look you love! \n"
          ]
        }
      ],
      "source": [
        "prompt1 = \"Describe this room:\"\n",
        "prompt2 = \"and recommend a colors for sofa that will match bohemian vibe\"\n",
        "contents = [prompt1, room_image, prompt2]\n",
        "\n",
        "responses = multimodal_model.generate_content(contents, stream=True)\n",
        "\n",
        "print(\"-------Prompt--------\")\n",
        "print_multimodal_prompt(contents)\n",
        "\n",
        "print(\"\\n-------Response--------\")\n",
        "for response in responses:\n",
        "    print(response.text, end=\"\")"
      ]
    },
    {
      "cell_type": "markdown",
      "metadata": {
        "id": "9zMkHIel1doZ"
      },
      "source": [
        "## Product image background generation"
      ]
    },
    {
      "cell_type": "code",
      "source": [
        "! pip3 install --upgrade --user google-cloud-aiplatform"
      ],
      "metadata": {
        "colab": {
          "base_uri": "https://localhost:8080/"
        },
        "id": "LUy4JyXd3_UD",
        "outputId": "f8996743-bed7-4520-91b7-8f7dc3f6ac56"
      },
      "execution_count": null,
      "outputs": [
        {
          "output_type": "stream",
          "name": "stdout",
          "text": [
            "Requirement already satisfied: google-cloud-aiplatform in /root/.local/lib/python3.10/site-packages (1.64.0)\n",
            "Requirement already satisfied: google-api-core!=2.0.*,!=2.1.*,!=2.2.*,!=2.3.*,!=2.4.*,!=2.5.*,!=2.6.*,!=2.7.*,<3.0.0dev,>=1.34.1 in /usr/local/lib/python3.10/dist-packages (from google-api-core[grpc]!=2.0.*,!=2.1.*,!=2.2.*,!=2.3.*,!=2.4.*,!=2.5.*,!=2.6.*,!=2.7.*,<3.0.0dev,>=1.34.1->google-cloud-aiplatform) (2.19.1)\n",
            "Requirement already satisfied: google-auth<3.0.0dev,>=2.14.1 in /usr/local/lib/python3.10/dist-packages (from google-cloud-aiplatform) (2.27.0)\n",
            "Requirement already satisfied: proto-plus<2.0.0dev,>=1.22.3 in /usr/local/lib/python3.10/dist-packages (from google-cloud-aiplatform) (1.24.0)\n",
            "Requirement already satisfied: protobuf!=4.21.0,!=4.21.1,!=4.21.2,!=4.21.3,!=4.21.4,!=4.21.5,<6.0.0dev,>=3.20.2 in /usr/local/lib/python3.10/dist-packages (from google-cloud-aiplatform) (3.20.3)\n",
            "Requirement already satisfied: packaging>=14.3 in /usr/local/lib/python3.10/dist-packages (from google-cloud-aiplatform) (24.1)\n",
            "Requirement already satisfied: google-cloud-storage<3.0.0dev,>=1.32.0 in /usr/local/lib/python3.10/dist-packages (from google-cloud-aiplatform) (2.8.0)\n",
            "Requirement already satisfied: google-cloud-bigquery!=3.20.0,<4.0.0dev,>=1.15.0 in /usr/local/lib/python3.10/dist-packages (from google-cloud-aiplatform) (3.25.0)\n",
            "Requirement already satisfied: google-cloud-resource-manager<3.0.0dev,>=1.3.3 in /usr/local/lib/python3.10/dist-packages (from google-cloud-aiplatform) (1.12.5)\n",
            "Requirement already satisfied: shapely<3.0.0dev in /usr/local/lib/python3.10/dist-packages (from google-cloud-aiplatform) (2.0.6)\n",
            "Requirement already satisfied: pydantic<3 in /root/.local/lib/python3.10/site-packages (from google-cloud-aiplatform) (1.10.14)\n",
            "Requirement already satisfied: docstring-parser<1 in /usr/local/lib/python3.10/dist-packages (from google-cloud-aiplatform) (0.16)\n",
            "Requirement already satisfied: googleapis-common-protos<2.0.dev0,>=1.56.2 in /usr/local/lib/python3.10/dist-packages (from google-api-core!=2.0.*,!=2.1.*,!=2.2.*,!=2.3.*,!=2.4.*,!=2.5.*,!=2.6.*,!=2.7.*,<3.0.0dev,>=1.34.1->google-api-core[grpc]!=2.0.*,!=2.1.*,!=2.2.*,!=2.3.*,!=2.4.*,!=2.5.*,!=2.6.*,!=2.7.*,<3.0.0dev,>=1.34.1->google-cloud-aiplatform) (1.64.0)\n",
            "Requirement already satisfied: requests<3.0.0.dev0,>=2.18.0 in /root/.local/lib/python3.10/site-packages (from google-api-core!=2.0.*,!=2.1.*,!=2.2.*,!=2.3.*,!=2.4.*,!=2.5.*,!=2.6.*,!=2.7.*,<3.0.0dev,>=1.34.1->google-api-core[grpc]!=2.0.*,!=2.1.*,!=2.2.*,!=2.3.*,!=2.4.*,!=2.5.*,!=2.6.*,!=2.7.*,<3.0.0dev,>=1.34.1->google-cloud-aiplatform) (2.29.0)\n",
            "Requirement already satisfied: grpcio<2.0dev,>=1.33.2 in /usr/local/lib/python3.10/dist-packages (from google-api-core[grpc]!=2.0.*,!=2.1.*,!=2.2.*,!=2.3.*,!=2.4.*,!=2.5.*,!=2.6.*,!=2.7.*,<3.0.0dev,>=1.34.1->google-cloud-aiplatform) (1.64.1)\n",
            "Requirement already satisfied: grpcio-status<2.0.dev0,>=1.33.2 in /usr/local/lib/python3.10/dist-packages (from google-api-core[grpc]!=2.0.*,!=2.1.*,!=2.2.*,!=2.3.*,!=2.4.*,!=2.5.*,!=2.6.*,!=2.7.*,<3.0.0dev,>=1.34.1->google-cloud-aiplatform) (1.48.2)\n",
            "Requirement already satisfied: cachetools<6.0,>=2.0.0 in /usr/local/lib/python3.10/dist-packages (from google-auth<3.0.0dev,>=2.14.1->google-cloud-aiplatform) (5.5.0)\n",
            "Requirement already satisfied: pyasn1-modules>=0.2.1 in /usr/local/lib/python3.10/dist-packages (from google-auth<3.0.0dev,>=2.14.1->google-cloud-aiplatform) (0.4.0)\n",
            "Requirement already satisfied: rsa<5,>=3.1.4 in /usr/local/lib/python3.10/dist-packages (from google-auth<3.0.0dev,>=2.14.1->google-cloud-aiplatform) (4.9)\n",
            "Requirement already satisfied: google-cloud-core<3.0.0dev,>=1.6.0 in /usr/local/lib/python3.10/dist-packages (from google-cloud-bigquery!=3.20.0,<4.0.0dev,>=1.15.0->google-cloud-aiplatform) (2.4.1)\n",
            "Requirement already satisfied: google-resumable-media<3.0dev,>=0.6.0 in /usr/local/lib/python3.10/dist-packages (from google-cloud-bigquery!=3.20.0,<4.0.0dev,>=1.15.0->google-cloud-aiplatform) (2.7.2)\n",
            "Requirement already satisfied: python-dateutil<3.0dev,>=2.7.2 in /root/.local/lib/python3.10/site-packages (from google-cloud-bigquery!=3.20.0,<4.0.0dev,>=1.15.0->google-cloud-aiplatform) (2.9.0.post0)\n",
            "Requirement already satisfied: grpc-google-iam-v1<1.0.0dev,>=0.12.4 in /usr/local/lib/python3.10/dist-packages (from google-cloud-resource-manager<3.0.0dev,>=1.3.3->google-cloud-aiplatform) (0.13.1)\n",
            "Requirement already satisfied: typing-extensions>=4.2.0 in /root/.local/lib/python3.10/site-packages (from pydantic<3->google-cloud-aiplatform) (4.10.0)\n",
            "Requirement already satisfied: numpy<3,>=1.14 in /usr/local/lib/python3.10/dist-packages (from shapely<3.0.0dev->google-cloud-aiplatform) (1.26.4)\n",
            "Requirement already satisfied: google-crc32c<2.0dev,>=1.0 in /usr/local/lib/python3.10/dist-packages (from google-resumable-media<3.0dev,>=0.6.0->google-cloud-bigquery!=3.20.0,<4.0.0dev,>=1.15.0->google-cloud-aiplatform) (1.5.0)\n",
            "Requirement already satisfied: pyasn1<0.7.0,>=0.4.6 in /usr/local/lib/python3.10/dist-packages (from pyasn1-modules>=0.2.1->google-auth<3.0.0dev,>=2.14.1->google-cloud-aiplatform) (0.6.0)\n",
            "Requirement already satisfied: six>=1.5 in /usr/local/lib/python3.10/dist-packages (from python-dateutil<3.0dev,>=2.7.2->google-cloud-bigquery!=3.20.0,<4.0.0dev,>=1.15.0->google-cloud-aiplatform) (1.16.0)\n",
            "Requirement already satisfied: charset-normalizer<4,>=2 in /usr/local/lib/python3.10/dist-packages (from requests<3.0.0.dev0,>=2.18.0->google-api-core!=2.0.*,!=2.1.*,!=2.2.*,!=2.3.*,!=2.4.*,!=2.5.*,!=2.6.*,!=2.7.*,<3.0.0dev,>=1.34.1->google-api-core[grpc]!=2.0.*,!=2.1.*,!=2.2.*,!=2.3.*,!=2.4.*,!=2.5.*,!=2.6.*,!=2.7.*,<3.0.0dev,>=1.34.1->google-cloud-aiplatform) (3.3.2)\n",
            "Requirement already satisfied: idna<4,>=2.5 in /root/.local/lib/python3.10/site-packages (from requests<3.0.0.dev0,>=2.18.0->google-api-core!=2.0.*,!=2.1.*,!=2.2.*,!=2.3.*,!=2.4.*,!=2.5.*,!=2.6.*,!=2.7.*,<3.0.0dev,>=1.34.1->google-api-core[grpc]!=2.0.*,!=2.1.*,!=2.2.*,!=2.3.*,!=2.4.*,!=2.5.*,!=2.6.*,!=2.7.*,<3.0.0dev,>=1.34.1->google-cloud-aiplatform) (3.6)\n",
            "Requirement already satisfied: urllib3<1.27,>=1.21.1 in /root/.local/lib/python3.10/site-packages (from requests<3.0.0.dev0,>=2.18.0->google-api-core!=2.0.*,!=2.1.*,!=2.2.*,!=2.3.*,!=2.4.*,!=2.5.*,!=2.6.*,!=2.7.*,<3.0.0dev,>=1.34.1->google-api-core[grpc]!=2.0.*,!=2.1.*,!=2.2.*,!=2.3.*,!=2.4.*,!=2.5.*,!=2.6.*,!=2.7.*,<3.0.0dev,>=1.34.1->google-cloud-aiplatform) (1.26.18)\n",
            "Requirement already satisfied: certifi>=2017.4.17 in /root/.local/lib/python3.10/site-packages (from requests<3.0.0.dev0,>=2.18.0->google-api-core!=2.0.*,!=2.1.*,!=2.2.*,!=2.3.*,!=2.4.*,!=2.5.*,!=2.6.*,!=2.7.*,<3.0.0dev,>=1.34.1->google-api-core[grpc]!=2.0.*,!=2.1.*,!=2.2.*,!=2.3.*,!=2.4.*,!=2.5.*,!=2.6.*,!=2.7.*,<3.0.0dev,>=1.34.1->google-cloud-aiplatform) (2024.2.2)\n"
          ]
        }
      ]
    },
    {
      "cell_type": "code",
      "execution_count": null,
      "metadata": {
        "colab": {
          "base_uri": "https://localhost:8080/"
        },
        "id": "zGTOuzFH3Lt8",
        "outputId": "f6a57818-6ba9-4f2b-c56d-d2be8cbebdb6"
      },
      "outputs": [
        {
          "output_type": "execute_result",
          "data": {
            "text/plain": [
              "{'status': 'ok', 'restart': True}"
            ]
          },
          "metadata": {},
          "execution_count": 2
        }
      ],
      "source": [
        "import IPython\n",
        "\n",
        "app = IPython.Application.instance()\n",
        "app.kernel.do_shutdown(True)"
      ]
    },
    {
      "cell_type": "code",
      "source": [
        "import sys\n",
        "\n",
        "if \"google.colab\" in sys.modules:\n",
        "    from google.colab import auth\n",
        "\n",
        "    auth.authenticate_user()"
      ],
      "metadata": {
        "id": "Xfy2yx434C4-"
      },
      "execution_count": null,
      "outputs": []
    },
    {
      "cell_type": "code",
      "execution_count": null,
      "metadata": {
        "id": "bSx41eak27RH"
      },
      "outputs": [],
      "source": [
        "PROJECT_ID = \"inner-orb-434419-b6\"  # @param {type:\"string\"}\n",
        "LOCATION = \"us-central1\"  # @param {type:\"string\"}\n",
        "\n",
        "import vertexai\n",
        "\n",
        "vertexai.init(project=PROJECT_ID, location=LOCATION)"
      ]
    },
    {
      "cell_type": "code",
      "execution_count": null,
      "metadata": {
        "id": "vRAkyhtE0mgU"
      },
      "outputs": [],
      "source": [
        "from vertexai.generative_models import GenerativeModel, Image, Part"
      ]
    },
    {
      "cell_type": "code",
      "execution_count": null,
      "metadata": {
        "id": "jLv37B6R0meV"
      },
      "outputs": [],
      "source": [
        "model = GenerativeModel(\"gemini-1.5-pro-001\")"
      ]
    },
    {
      "cell_type": "code",
      "execution_count": null,
      "metadata": {
        "id": "RpH6U4X11iLX"
      },
      "outputs": [],
      "source": [
        "import typing\n",
        "import http.client\n",
        "import urllib.request\n",
        "import IPython.display\n",
        "from PIL import Image as PIL_Image\n",
        "from PIL import ImageOps as PIL_ImageOps\n",
        "\n",
        "\n",
        "def display_image(\n",
        "    image: Image,\n",
        "    max_width: int = 600,\n",
        "    max_height: int = 350,\n",
        ") -> None:\n",
        "    pil_image = typing.cast(PIL_Image.Image, image._pil_image)\n",
        "    if pil_image.mode != \"RGB\":\n",
        "        # RGB is supported by all Jupyter environments (e.g. RGBA is not yet)\n",
        "        pil_image = pil_image.convert(\"RGB\")\n",
        "    image_width, image_height = pil_image.size\n",
        "    if max_width < image_width or max_height < image_height:\n",
        "        # Resize to display a smaller notebook image\n",
        "        pil_image = PIL_ImageOps.contain(pil_image, (max_width, max_height))\n",
        "    IPython.display.display(pil_image)\n",
        "\n",
        "\n",
        "def get_image_bytes_from_url(image_url: str) -> bytes:\n",
        "    with urllib.request.urlopen(image_url) as response:\n",
        "        response = typing.cast(http.client.HTTPResponse, response)\n",
        "        image_bytes = response.read()\n",
        "    return image_bytes\n",
        "\n",
        "\n",
        "def get_url_from_gcs(gcs_uri: str) -> str:\n",
        "    # Converts GCS uri to url for image display\n",
        "    url = \"https://storage.googleapis.com/\" + gcs_uri.replace(\"gs://\", \"\").replace(\n",
        "        \" \", \"%20\"\n",
        "    )\n",
        "    return url"
      ]
    },
    {
      "cell_type": "code",
      "execution_count": null,
      "metadata": {
        "id": "ulAQmN5x1iJQ"
      },
      "outputs": [],
      "source": [
        "# Load an image from Google Cloud Storage\n",
        "gcs_uri = \"gs://part-c-project/png-2702691_1280.png\"\n",
        "product_image = Part.from_uri(gcs_uri, mime_type=\"image/png\")\n",
        "\n",
        "# Display image\n",
        "url = get_url_from_gcs(product_image.file_data.file_uri)\n",
        "# IPython.display.Image(url, width=350)"
      ]
    },
    {
      "cell_type": "code",
      "execution_count": null,
      "metadata": {
        "id": "imP57iWs1iFE",
        "colab": {
          "base_uri": "https://localhost:8080/"
        },
        "outputId": "fcc90c07-4040-453f-c5a1-2eddba2dc452"
      },
      "outputs": [
        {
          "output_type": "stream",
          "name": "stdout",
          "text": [
            "black and white cat on a psychedelic rainbow road\n"
          ]
        }
      ],
      "source": [
        "# Update the product description if using a different image\n",
        "product_description = \"a cat\"  # @param {type:\"string\"}\n",
        "\n",
        "prompt = \"\"\"\n",
        "Create a description of the product image.\n",
        "\n",
        "The description should be an image generation prompt to create a more interesting background.\n",
        "\n",
        "Only return the prompt string.\n",
        "\"\"\"\n",
        "\n",
        "contents = [product_image, product_description, prompt]\n",
        "\n",
        "responses = model.generate_content(contents)\n",
        "description = responses.text\n",
        "print(description)"
      ]
    },
    {
      "cell_type": "code",
      "source": [],
      "metadata": {
        "id": "XNpLJluK4RUC"
      },
      "execution_count": null,
      "outputs": []
    },
    {
      "cell_type": "code",
      "source": [],
      "metadata": {
        "id": "Eepd1-VT4RSR"
      },
      "execution_count": null,
      "outputs": []
    },
    {
      "cell_type": "markdown",
      "metadata": {
        "id": "cm1c9RtmsJb9"
      },
      "source": []
    },
    {
      "cell_type": "markdown",
      "metadata": {
        "id": "i1JC8BX5sJZQ"
      },
      "source": []
    }
  ],
  "metadata": {
    "colab": {
      "provenance": [],
      "toc_visible": true
    },
    "kernelspec": {
      "display_name": "Python 3",
      "name": "python3"
    },
    "language_info": {
      "name": "python"
    }
  },
  "nbformat": 4,
  "nbformat_minor": 0
}
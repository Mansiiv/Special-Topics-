{
  "nbformat": 4,
  "nbformat_minor": 0,
  "metadata": {
    "colab": {
      "provenance": []
    },
    "kernelspec": {
      "name": "python3",
      "display_name": "Python 3"
    },
    "language_info": {
      "name": "python"
    },
    "widgets": {
      "application/vnd.jupyter.widget-state+json": {
        "a8479758af9f4382ae2a7bc26ca4d30b": {
          "model_module": "@jupyter-widgets/controls",
          "model_name": "HBoxModel",
          "model_module_version": "1.5.0",
          "state": {
            "_dom_classes": [],
            "_model_module": "@jupyter-widgets/controls",
            "_model_module_version": "1.5.0",
            "_model_name": "HBoxModel",
            "_view_count": null,
            "_view_module": "@jupyter-widgets/controls",
            "_view_module_version": "1.5.0",
            "_view_name": "HBoxView",
            "box_style": "",
            "children": [
              "IPY_MODEL_816cd851fa3543cf832345216b039134",
              "IPY_MODEL_3861cbcb43df400fa275ed5e4e13a92f",
              "IPY_MODEL_70b6e01db9974e7aa9be9ce7b7a359a3"
            ],
            "layout": "IPY_MODEL_938dccb462c24855974166c21b0badef"
          }
        },
        "816cd851fa3543cf832345216b039134": {
          "model_module": "@jupyter-widgets/controls",
          "model_name": "HTMLModel",
          "model_module_version": "1.5.0",
          "state": {
            "_dom_classes": [],
            "_model_module": "@jupyter-widgets/controls",
            "_model_module_version": "1.5.0",
            "_model_name": "HTMLModel",
            "_view_count": null,
            "_view_module": "@jupyter-widgets/controls",
            "_view_module_version": "1.5.0",
            "_view_name": "HTMLView",
            "description": "",
            "description_tooltip": null,
            "layout": "IPY_MODEL_4b6eb465e0eb4b0aa43bc161a8da472e",
            "placeholder": "​",
            "style": "IPY_MODEL_fe9c153fe73045b9a78a0b5ed02ef53d",
            "value": "Map: 100%"
          }
        },
        "3861cbcb43df400fa275ed5e4e13a92f": {
          "model_module": "@jupyter-widgets/controls",
          "model_name": "FloatProgressModel",
          "model_module_version": "1.5.0",
          "state": {
            "_dom_classes": [],
            "_model_module": "@jupyter-widgets/controls",
            "_model_module_version": "1.5.0",
            "_model_name": "FloatProgressModel",
            "_view_count": null,
            "_view_module": "@jupyter-widgets/controls",
            "_view_module_version": "1.5.0",
            "_view_name": "ProgressView",
            "bar_style": "success",
            "description": "",
            "description_tooltip": null,
            "layout": "IPY_MODEL_b56bc026e9ee41c2adab839d221a90ab",
            "max": 1338,
            "min": 0,
            "orientation": "horizontal",
            "style": "IPY_MODEL_7454502af72a4ccdb854cf7b4f2b1398",
            "value": 1338
          }
        },
        "70b6e01db9974e7aa9be9ce7b7a359a3": {
          "model_module": "@jupyter-widgets/controls",
          "model_name": "HTMLModel",
          "model_module_version": "1.5.0",
          "state": {
            "_dom_classes": [],
            "_model_module": "@jupyter-widgets/controls",
            "_model_module_version": "1.5.0",
            "_model_name": "HTMLModel",
            "_view_count": null,
            "_view_module": "@jupyter-widgets/controls",
            "_view_module_version": "1.5.0",
            "_view_name": "HTMLView",
            "description": "",
            "description_tooltip": null,
            "layout": "IPY_MODEL_fbe0e024f3444f95bc0c1b8204a69eaa",
            "placeholder": "​",
            "style": "IPY_MODEL_2eff9822a7804c1492088b44ac7afec2",
            "value": " 1338/1338 [00:00&lt;00:00, 3042.10 examples/s]"
          }
        },
        "938dccb462c24855974166c21b0badef": {
          "model_module": "@jupyter-widgets/base",
          "model_name": "LayoutModel",
          "model_module_version": "1.2.0",
          "state": {
            "_model_module": "@jupyter-widgets/base",
            "_model_module_version": "1.2.0",
            "_model_name": "LayoutModel",
            "_view_count": null,
            "_view_module": "@jupyter-widgets/base",
            "_view_module_version": "1.2.0",
            "_view_name": "LayoutView",
            "align_content": null,
            "align_items": null,
            "align_self": null,
            "border": null,
            "bottom": null,
            "display": null,
            "flex": null,
            "flex_flow": null,
            "grid_area": null,
            "grid_auto_columns": null,
            "grid_auto_flow": null,
            "grid_auto_rows": null,
            "grid_column": null,
            "grid_gap": null,
            "grid_row": null,
            "grid_template_areas": null,
            "grid_template_columns": null,
            "grid_template_rows": null,
            "height": null,
            "justify_content": null,
            "justify_items": null,
            "left": null,
            "margin": null,
            "max_height": null,
            "max_width": null,
            "min_height": null,
            "min_width": null,
            "object_fit": null,
            "object_position": null,
            "order": null,
            "overflow": null,
            "overflow_x": null,
            "overflow_y": null,
            "padding": null,
            "right": null,
            "top": null,
            "visibility": null,
            "width": null
          }
        },
        "4b6eb465e0eb4b0aa43bc161a8da472e": {
          "model_module": "@jupyter-widgets/base",
          "model_name": "LayoutModel",
          "model_module_version": "1.2.0",
          "state": {
            "_model_module": "@jupyter-widgets/base",
            "_model_module_version": "1.2.0",
            "_model_name": "LayoutModel",
            "_view_count": null,
            "_view_module": "@jupyter-widgets/base",
            "_view_module_version": "1.2.0",
            "_view_name": "LayoutView",
            "align_content": null,
            "align_items": null,
            "align_self": null,
            "border": null,
            "bottom": null,
            "display": null,
            "flex": null,
            "flex_flow": null,
            "grid_area": null,
            "grid_auto_columns": null,
            "grid_auto_flow": null,
            "grid_auto_rows": null,
            "grid_column": null,
            "grid_gap": null,
            "grid_row": null,
            "grid_template_areas": null,
            "grid_template_columns": null,
            "grid_template_rows": null,
            "height": null,
            "justify_content": null,
            "justify_items": null,
            "left": null,
            "margin": null,
            "max_height": null,
            "max_width": null,
            "min_height": null,
            "min_width": null,
            "object_fit": null,
            "object_position": null,
            "order": null,
            "overflow": null,
            "overflow_x": null,
            "overflow_y": null,
            "padding": null,
            "right": null,
            "top": null,
            "visibility": null,
            "width": null
          }
        },
        "fe9c153fe73045b9a78a0b5ed02ef53d": {
          "model_module": "@jupyter-widgets/controls",
          "model_name": "DescriptionStyleModel",
          "model_module_version": "1.5.0",
          "state": {
            "_model_module": "@jupyter-widgets/controls",
            "_model_module_version": "1.5.0",
            "_model_name": "DescriptionStyleModel",
            "_view_count": null,
            "_view_module": "@jupyter-widgets/base",
            "_view_module_version": "1.2.0",
            "_view_name": "StyleView",
            "description_width": ""
          }
        },
        "b56bc026e9ee41c2adab839d221a90ab": {
          "model_module": "@jupyter-widgets/base",
          "model_name": "LayoutModel",
          "model_module_version": "1.2.0",
          "state": {
            "_model_module": "@jupyter-widgets/base",
            "_model_module_version": "1.2.0",
            "_model_name": "LayoutModel",
            "_view_count": null,
            "_view_module": "@jupyter-widgets/base",
            "_view_module_version": "1.2.0",
            "_view_name": "LayoutView",
            "align_content": null,
            "align_items": null,
            "align_self": null,
            "border": null,
            "bottom": null,
            "display": null,
            "flex": null,
            "flex_flow": null,
            "grid_area": null,
            "grid_auto_columns": null,
            "grid_auto_flow": null,
            "grid_auto_rows": null,
            "grid_column": null,
            "grid_gap": null,
            "grid_row": null,
            "grid_template_areas": null,
            "grid_template_columns": null,
            "grid_template_rows": null,
            "height": null,
            "justify_content": null,
            "justify_items": null,
            "left": null,
            "margin": null,
            "max_height": null,
            "max_width": null,
            "min_height": null,
            "min_width": null,
            "object_fit": null,
            "object_position": null,
            "order": null,
            "overflow": null,
            "overflow_x": null,
            "overflow_y": null,
            "padding": null,
            "right": null,
            "top": null,
            "visibility": null,
            "width": null
          }
        },
        "7454502af72a4ccdb854cf7b4f2b1398": {
          "model_module": "@jupyter-widgets/controls",
          "model_name": "ProgressStyleModel",
          "model_module_version": "1.5.0",
          "state": {
            "_model_module": "@jupyter-widgets/controls",
            "_model_module_version": "1.5.0",
            "_model_name": "ProgressStyleModel",
            "_view_count": null,
            "_view_module": "@jupyter-widgets/base",
            "_view_module_version": "1.2.0",
            "_view_name": "StyleView",
            "bar_color": null,
            "description_width": ""
          }
        },
        "fbe0e024f3444f95bc0c1b8204a69eaa": {
          "model_module": "@jupyter-widgets/base",
          "model_name": "LayoutModel",
          "model_module_version": "1.2.0",
          "state": {
            "_model_module": "@jupyter-widgets/base",
            "_model_module_version": "1.2.0",
            "_model_name": "LayoutModel",
            "_view_count": null,
            "_view_module": "@jupyter-widgets/base",
            "_view_module_version": "1.2.0",
            "_view_name": "LayoutView",
            "align_content": null,
            "align_items": null,
            "align_self": null,
            "border": null,
            "bottom": null,
            "display": null,
            "flex": null,
            "flex_flow": null,
            "grid_area": null,
            "grid_auto_columns": null,
            "grid_auto_flow": null,
            "grid_auto_rows": null,
            "grid_column": null,
            "grid_gap": null,
            "grid_row": null,
            "grid_template_areas": null,
            "grid_template_columns": null,
            "grid_template_rows": null,
            "height": null,
            "justify_content": null,
            "justify_items": null,
            "left": null,
            "margin": null,
            "max_height": null,
            "max_width": null,
            "min_height": null,
            "min_width": null,
            "object_fit": null,
            "object_position": null,
            "order": null,
            "overflow": null,
            "overflow_x": null,
            "overflow_y": null,
            "padding": null,
            "right": null,
            "top": null,
            "visibility": null,
            "width": null
          }
        },
        "2eff9822a7804c1492088b44ac7afec2": {
          "model_module": "@jupyter-widgets/controls",
          "model_name": "DescriptionStyleModel",
          "model_module_version": "1.5.0",
          "state": {
            "_model_module": "@jupyter-widgets/controls",
            "_model_module_version": "1.5.0",
            "_model_name": "DescriptionStyleModel",
            "_view_count": null,
            "_view_module": "@jupyter-widgets/base",
            "_view_module_version": "1.2.0",
            "_view_name": "StyleView",
            "description_width": ""
          }
        }
      }
    }
  },
  "cells": [
    {
      "cell_type": "markdown",
      "source": [
        "# Synthetic Data Generation Using Tabula"
      ],
      "metadata": {
        "id": "8s0dZ14R7YAi"
      }
    },
    {
      "cell_type": "code",
      "execution_count": null,
      "metadata": {
        "id": "f8r_-gge7Uc5"
      },
      "outputs": [],
      "source": [
        "# Clone the Tabula repository to access required utilities\n",
        "!git clone https://github.com/zhao-zilong/Tabula.git\n",
        "\n",
        "# Install required dependencies\n",
        "!pip install datasets>=2.5.2\n",
        "!pip install numpy>=1.24.2\n",
        "!pip install tqdm>=4.64.1\n",
        "!pip install transformers>=4.22.1\n",
        "!pip install pandas>=1.4.4\n",
        "!pip install scikit_learn>=1.1.1\n",
        "!pip install torch>=1.10.2\n",
        "\n",
        "# Add the Tabula repository path to Python's system path\n",
        "import sys\n",
        "sys.path.append('/content/Tabula')  # Adjust the path if necessary to point to the Tabula directory\n",
        "\n",
        "# Import necessary libraries for data handling, machine learning, and transformers\n",
        "import os\n",
        "import random\n",
        "import warnings\n",
        "import logging\n",
        "import pandas as pd\n",
        "import numpy as np\n",
        "from sklearn import preprocessing\n",
        "from tqdm import tqdm\n",
        "import torch\n",
        "from transformers import AutoTokenizer, AutoModelForCausalLM, TrainingArguments, AutoConfig\n",
        "from datasets import Dataset\n",
        "from torch.utils.data import DataLoader\n",
        "from dataclasses import dataclass\n",
        "\n",
        "# Suppress warnings for cleaner output\n",
        "warnings.filterwarnings(\"ignore\")\n"
      ]
    },
    {
      "cell_type": "markdown",
      "source": [
        "# Load the Real Dataset"
      ],
      "metadata": {
        "id": "A3jzG9Ez7gFB"
      }
    },
    {
      "cell_type": "code",
      "source": [
        "import pandas as pd\n",
        "# Load the insurance dataset from the specified URL\n",
        "data_url = \"https://raw.githubusercontent.com/zhao-zilong/Tabula/main/Real_Datasets/Insurance_compressed.csv\"\n",
        "\n",
        "# Load the dataset into a Pandas DataFrame\n",
        "data = pd.read_csv(data_url)\n",
        "\n",
        "# Display the first few rows of the dataset for inspection\n",
        "print(\"Original Dataset Preview:\")\n",
        "print(data.head())\n",
        "\n",
        "# Check the dataset information for data types and missing values\n",
        "print(\"\\nDataset Info:\")\n",
        "print(data.info())\n"
      ],
      "metadata": {
        "colab": {
          "base_uri": "https://localhost:8080/"
        },
        "id": "a9uQ_B2W7bx2",
        "outputId": "9b5d6b1d-a5fa-42ab-c5f0-bb62e945ef7b"
      },
      "execution_count": 4,
      "outputs": [
        {
          "output_type": "stream",
          "name": "stdout",
          "text": [
            "Original Dataset Preview:\n",
            "   age  sex     bi  children  sm  region     charges\n",
            "0   18    0  53.13         0   0       0   1163.4627\n",
            "1   22    0  52.58         1   1       0  44501.3982\n",
            "2   23    0  50.38         1   0       0   2438.0552\n",
            "3   58    0  49.06         0   0       0  11381.3254\n",
            "4   46    1  48.07         2   0       3   9432.9253\n",
            "\n",
            "Dataset Info:\n",
            "<class 'pandas.core.frame.DataFrame'>\n",
            "RangeIndex: 1338 entries, 0 to 1337\n",
            "Data columns (total 7 columns):\n",
            " #   Column    Non-Null Count  Dtype  \n",
            "---  ------    --------------  -----  \n",
            " 0   age       1338 non-null   int64  \n",
            " 1   sex       1338 non-null   int64  \n",
            " 2   bi        1338 non-null   float64\n",
            " 3   children  1338 non-null   int64  \n",
            " 4   sm        1338 non-null   int64  \n",
            " 5   region    1338 non-null   int64  \n",
            " 6   charges   1338 non-null   float64\n",
            "dtypes: float64(2), int64(5)\n",
            "memory usage: 73.3 KB\n",
            "None\n"
          ]
        }
      ]
    },
    {
      "cell_type": "markdown",
      "source": [
        "# Define utility functions"
      ],
      "metadata": {
        "id": "e4E2svsr7xd6"
      }
    },
    {
      "cell_type": "code",
      "source": [
        "# Function to convert a Numpy array into a Pandas DataFrame\n",
        "def _array_to_dataframe(data, columns=None):\n",
        "    \"\"\"Convert a numpy array to a pandas DataFrame.\"\"\"\n",
        "    if isinstance(data, pd.DataFrame):\n",
        "        return data\n",
        "    assert isinstance(data, np.ndarray), \"Input data must be a Pandas DataFrame or Numpy NDArray\"\n",
        "    assert columns, \"Column names must be provided for conversion\"\n",
        "    return pd.DataFrame(data=data, columns=columns)\n",
        "\n",
        "# Function to get the distribution of a column\n",
        "def _get_column_distribution(df, col):\n",
        "    \"\"\"Extract distribution information for a specified column.\"\"\"\n",
        "    if df[col].dtype in [\"float\", \"int\"]:\n",
        "        return df[col].to_list()\n",
        "    else:\n",
        "        return df[col].value_counts(normalize=True).to_dict()\n",
        "\n",
        "# Function to pad tokens for consistency in sequence length\n",
        "def _pad(sequence, length, pad_value=50256):\n",
        "    \"\"\"Pad sequences to a fixed length with a specified value.\"\"\"\n",
        "    return [pad_value] * (length - len(sequence)) + sequence\n",
        "\n",
        "# Function to pad a batch of token sequences\n",
        "def _pad_tokens(tokens):\n",
        "    \"\"\"Pad multiple sequences to the same length.\"\"\"\n",
        "    max_length = max(len(token) for token in tokens)\n",
        "    return [_pad(token, max_length) for token in tokens]\n",
        "\n",
        "# Function to seed random number generators for reproducibility\n",
        "def _seed_worker(_):\n",
        "    \"\"\"Set seed for random number generators.\"\"\"\n",
        "    worker_seed = torch.initial_seed() % 2**32\n",
        "    random.seed(worker_seed)\n",
        "    np.random.seed(worker_seed)\n",
        "    torch.manual_seed(worker_seed)\n",
        "    torch.cuda.manual_seed_all(worker_seed)\n"
      ],
      "metadata": {
        "id": "E_hDhy6V7h01"
      },
      "execution_count": 5,
      "outputs": []
    },
    {
      "cell_type": "markdown",
      "source": [
        "# Initialize Tabula Model\n"
      ],
      "metadata": {
        "id": "RBhxRfXq72EF"
      }
    },
    {
      "cell_type": "code",
      "source": [
        "import os\n",
        "os.environ[\"WANDB_DISABLED\"] = \"true\"\n"
      ],
      "metadata": {
        "id": "JyegM8R19Evw"
      },
      "execution_count": 15,
      "outputs": []
    },
    {
      "cell_type": "code",
      "source": [
        "def fit(self, data):\n",
        "    \"\"\"Train the Tabula model.\"\"\"\n",
        "    print(\"Preparing data for training...\")\n",
        "    self.columns = data.columns  # Store column information\n",
        "\n",
        "    # Encode categorical columns if applicable\n",
        "    if self.categorical_columns:\n",
        "        data = self.encode_categorical_column(data)\n",
        "\n",
        "    # Convert data to text format\n",
        "    data['text'] = data.apply(lambda row: \", \".join([f\"{col} {row[col]}\" for col in data.columns]), axis=1)\n",
        "\n",
        "    # Tokenize the text data\n",
        "    def tokenize_function(examples):\n",
        "        tokens = self.tokenizer(\n",
        "            examples[\"text\"], truncation=True, padding=True, max_length=128\n",
        "        )\n",
        "        tokens[\"labels\"] = tokens[\"input_ids\"].copy()  # Add labels for loss computation\n",
        "        return tokens\n",
        "\n",
        "    # Convert to Hugging Face Dataset and tokenize\n",
        "    dataset = Dataset.from_pandas(data[['text']])\n",
        "    tokenized_dataset = dataset.map(tokenize_function, batched=True)\n",
        "\n",
        "    # Set up training arguments\n",
        "    training_args = TrainingArguments(\n",
        "        output_dir=self.experiment_dir,\n",
        "        num_train_epochs=self.epochs,\n",
        "        per_device_train_batch_size=self.batch_size,\n",
        "        save_strategy=\"no\",\n",
        "        logging_strategy=\"no\",\n",
        "        report_to=\"none\",  # Disable wandb and other logging integrations\n",
        "    )\n",
        "\n",
        "    # Initialize the Trainer\n",
        "    trainer = Trainer(\n",
        "        model=self.model,\n",
        "        args=training_args,\n",
        "        train_dataset=tokenized_dataset,\n",
        "    )\n",
        "\n",
        "    # Train the model\n",
        "    print(\"Training the model...\")\n",
        "    trainer.train()\n"
      ],
      "metadata": {
        "id": "bw53tcvM9EtW"
      },
      "execution_count": 20,
      "outputs": []
    },
    {
      "cell_type": "code",
      "source": [
        "def sample(self, n_samples, temperature=0.7, k=100, max_length=50):\n",
        "    \"\"\"\n",
        "    Generate synthetic samples using the pre-trained Tabula model.\n",
        "    \"\"\"\n",
        "    print(f\"Generating {n_samples} synthetic samples...\")\n",
        "    self.model.eval()\n",
        "    synthetic_data = []\n",
        "\n",
        "    for _ in range(n_samples):\n",
        "        # Use a default prompt or any starting text\n",
        "        inputs = self.tokenizer(\"START\", return_tensors=\"pt\", padding=True, truncation=True)\n",
        "\n",
        "        # Add attention_mask and set pad_token_id\n",
        "        input_ids = inputs[\"input_ids\"].to(self.model.device)\n",
        "        attention_mask = inputs[\"attention_mask\"].to(self.model.device)\n",
        "\n",
        "        # Generate text with pre-trained model\n",
        "        outputs = self.model.generate(\n",
        "            input_ids=input_ids,\n",
        "            attention_mask=attention_mask,\n",
        "            max_length=max_length,\n",
        "            do_sample=True,\n",
        "            top_k=k,\n",
        "            temperature=temperature,\n",
        "            pad_token_id=self.tokenizer.eos_token_id  # Explicitly handle padding\n",
        "        )\n",
        "\n",
        "        # Decode generated text and collect results\n",
        "        decoded = self.tokenizer.decode(outputs[0], skip_special_tokens=True)\n",
        "        synthetic_data.append(decoded)\n",
        "\n",
        "    # Return generated data as a DataFrame for easy use\n",
        "    return pd.DataFrame(synthetic_data, columns=[\"Generated Data\"])\n"
      ],
      "metadata": {
        "id": "hhO0wIX_gJN1"
      },
      "execution_count": 23,
      "outputs": []
    },
    {
      "cell_type": "code",
      "source": [
        "\n",
        "# Initialize and train the model\n",
        "model = Tabula(\n",
        "    llm=\"distilgpt2\",\n",
        "    experiment_dir=\"insurance_training\",\n",
        "    epochs=10,\n",
        "    batch_size=32,\n",
        "    categorical_columns=[\"sex\", \"children\", \"smoker\", \"region\"]\n",
        ")\n",
        "\n",
        "print(\"Training the Tabula model...\")\n",
        "model.fit(data)\n",
        "\n",
        "print(\"\\nGenerating synthetic data...\")\n",
        "synthetic_data = model.sample(n_samples=1338)\n",
        "\n",
        "# Save the synthetic data\n",
        "synthetic_data.to_csv(\"synthetic_insurance_data.csv\", index=False)\n",
        "\n",
        "# Display the synthetic data\n",
        "print(\"\\nSynthetic Data Preview:\")\n",
        "print(synthetic_data.head())"
      ],
      "metadata": {
        "colab": {
          "base_uri": "https://localhost:8080/",
          "height": 159,
          "referenced_widgets": [
            "a8479758af9f4382ae2a7bc26ca4d30b",
            "816cd851fa3543cf832345216b039134",
            "3861cbcb43df400fa275ed5e4e13a92f",
            "70b6e01db9974e7aa9be9ce7b7a359a3",
            "938dccb462c24855974166c21b0badef",
            "4b6eb465e0eb4b0aa43bc161a8da472e",
            "fe9c153fe73045b9a78a0b5ed02ef53d",
            "b56bc026e9ee41c2adab839d221a90ab",
            "7454502af72a4ccdb854cf7b4f2b1398",
            "fbe0e024f3444f95bc0c1b8204a69eaa",
            "2eff9822a7804c1492088b44ac7afec2"
          ]
        },
        "id": "hPri_LwNlBGo",
        "outputId": "1177efad-6ac9-4076-bed2-ae0dad5374f7"
      },
      "execution_count": null,
      "outputs": [
        {
          "output_type": "stream",
          "name": "stdout",
          "text": [
            "Training the Tabula model...\n",
            "Preparing data for training...\n"
          ]
        },
        {
          "output_type": "display_data",
          "data": {
            "text/plain": [
              "Map:   0%|          | 0/1338 [00:00<?, ? examples/s]"
            ],
            "application/vnd.jupyter.widget-view+json": {
              "version_major": 2,
              "version_minor": 0,
              "model_id": "a8479758af9f4382ae2a7bc26ca4d30b"
            }
          },
          "metadata": {}
        },
        {
          "output_type": "stream",
          "name": "stdout",
          "text": [
            "Training the model...\n"
          ]
        },
        {
          "output_type": "display_data",
          "data": {
            "text/plain": [
              "<IPython.core.display.HTML object>"
            ],
            "text/html": [
              "\n",
              "    <div>\n",
              "      \n",
              "      <progress value='21' max='420' style='width:300px; height:20px; vertical-align: middle;'></progress>\n",
              "      [ 21/420 09:53 < 3:27:48, 0.03 it/s, Epoch 0.48/10]\n",
              "    </div>\n",
              "    <table border=\"1\" class=\"dataframe\">\n",
              "  <thead>\n",
              " <tr style=\"text-align: left;\">\n",
              "      <th>Step</th>\n",
              "      <th>Training Loss</th>\n",
              "    </tr>\n",
              "  </thead>\n",
              "  <tbody>\n",
              "  </tbody>\n",
              "</table><p>"
            ]
          },
          "metadata": {}
        }
      ]
    },
    {
      "cell_type": "markdown",
      "source": [
        "Step\tTraining Loss\n",
        "500\t1.820100\n",
        "\n",
        "1500\t1.439500\n",
        "\n",
        "2000\t1.310000\n",
        "\n",
        "2500\t1.189100\n",
        "\n",
        "3000\t1.089400\n",
        "\n",
        "3500\t1.025200\n",
        "\n",
        "4000\t0.980300\n",
        "\n",
        "4500\t0.946100\n",
        "\n",
        "5000\t0.913400\n",
        "\n",
        "5500\t0.884500\n",
        "\n",
        "6000\t0.854700\n",
        "\n",
        "6500\t0.831000\n",
        "\n",
        "7000\t0.809000\n",
        "\n",
        "7500\t0.788700\n",
        "\n",
        "8000\t0.772800\n",
        "\n",
        "8500\t0.759400\n",
        "\n",
        "9000\t0.746300\n",
        "\n",
        "9500\t0.735700\n",
        "\n",
        "10000\t0.727500\n",
        "\n",
        "10500\t0.718800\n",
        "\n",
        "11000\t0.713400\n",
        "\n",
        "11500\t0.706200\n",
        "\n",
        "12000\t0.699800\n",
        "\n",
        "12500\t0.695900\n",
        "\n",
        "13000\t0.691300\n",
        "\n",
        "13500\t0.688900\n",
        "\n",
        "14000\t0.686600\n",
        "\n",
        "14500\t0.683100\n",
        "\n",
        "15000\t0.681300\n",
        "\n",
        "15500\t0.678600\n",
        "\n",
        "16000\t0.677100\n",
        "\n",
        "16500\t0.676500\n",
        "\n",
        "\n",
        "\n",
        "\n"
      ],
      "metadata": {
        "id": "RiJRnUYPg0YJ"
      }
    }
  ]
}
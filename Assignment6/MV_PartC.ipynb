{
  "nbformat": 4,
  "nbformat_minor": 0,
  "metadata": {
    "colab": {
      "provenance": []
    },
    "kernelspec": {
      "name": "python3",
      "display_name": "Python 3"
    },
    "language_info": {
      "name": "python"
    }
  },
  "cells": [
    {
      "cell_type": "code",
      "execution_count": 1,
      "metadata": {
        "colab": {
          "base_uri": "https://localhost:8080/"
        },
        "id": "GnPoFRSs_d27",
        "outputId": "8d73d65b-6d02-4f24-cf86-30e2857b3f22"
      },
      "outputs": [
        {
          "output_type": "stream",
          "name": "stdout",
          "text": [
            "\u001b[?25l   \u001b[90m━━━━━━━━━━━━━━━━━━━━━━━━━━━━━━━━━━━━━━━━\u001b[0m \u001b[32m0.0/2.5 MB\u001b[0m \u001b[31m?\u001b[0m eta \u001b[36m-:--:--\u001b[0m\r\u001b[2K   \u001b[91m━━━━━━━━━━━━━━━━━━━━━━━━━━━━━━━━━━━━━━━\u001b[0m\u001b[91m╸\u001b[0m \u001b[32m2.5/2.5 MB\u001b[0m \u001b[31m94.9 MB/s\u001b[0m eta \u001b[36m0:00:01\u001b[0m\r\u001b[2K   \u001b[90m━━━━━━━━━━━━━━━━━━━━━━━━━━━━━━━━━━━━━━━━\u001b[0m \u001b[32m2.5/2.5 MB\u001b[0m \u001b[31m47.1 MB/s\u001b[0m eta \u001b[36m0:00:00\u001b[0m\n",
            "\u001b[?25h\u001b[?25l   \u001b[90m━━━━━━━━━━━━━━━━━━━━━━━━━━━━━━━━━━━━━━━━\u001b[0m \u001b[32m0.0/1.0 MB\u001b[0m \u001b[31m?\u001b[0m eta \u001b[36m-:--:--\u001b[0m\r\u001b[2K   \u001b[90m━━━━━━━━━━━━━━━━━━━━━━━━━━━━━━━━━━━━━━━━\u001b[0m \u001b[32m1.0/1.0 MB\u001b[0m \u001b[31m30.3 MB/s\u001b[0m eta \u001b[36m0:00:00\u001b[0m\n",
            "\u001b[?25h\u001b[?25l   \u001b[90m━━━━━━━━━━━━━━━━━━━━━━━━━━━━━━━━━━━━━━━━\u001b[0m \u001b[32m0.0/410.6 kB\u001b[0m \u001b[31m?\u001b[0m eta \u001b[36m-:--:--\u001b[0m\r\u001b[2K   \u001b[90m━━━━━━━━━━━━━━━━━━━━━━━━━━━━━━━━━━━━━━━━\u001b[0m \u001b[32m410.6/410.6 kB\u001b[0m \u001b[31m24.5 MB/s\u001b[0m eta \u001b[36m0:00:00\u001b[0m\n",
            "\u001b[?25h\u001b[?25l   \u001b[90m━━━━━━━━━━━━━━━━━━━━━━━━━━━━━━━━━━━━━━━━\u001b[0m \u001b[32m0.0/49.5 kB\u001b[0m \u001b[31m?\u001b[0m eta \u001b[36m-:--:--\u001b[0m\r\u001b[2K   \u001b[90m━━━━━━━━━━━━━━━━━━━━━━━━━━━━━━━━━━━━━━━━\u001b[0m \u001b[32m49.5/49.5 kB\u001b[0m \u001b[31m2.0 MB/s\u001b[0m eta \u001b[36m0:00:00\u001b[0m\n",
            "\u001b[?25h"
          ]
        }
      ],
      "source": [
        "# Install necessary packages\n",
        "!pip install -q openai langchain langchain_community\n",
        "\n",
        "# Import required libraries\n",
        "from openai import OpenAI\n",
        "from google.colab import userdata\n",
        "from langchain_community.llms import OpenAI as LangChainOpenAI\n",
        "from langchain_core.prompts import PromptTemplate\n",
        "from langchain.chains import LLMChain\n",
        "from typing import List\n",
        "import json\n",
        "import os\n",
        "\n",
        "# Documentation:\n",
        "# 1. This section installs and imports essential libraries for interacting with OpenAI and LangChain.\n",
        "# 2. Ensure your environment supports internet access to install packages.\n"
      ]
    },
    {
      "cell_type": "code",
      "source": [
        "# Set up API keys for OpenAI\n",
        "open_ai_api_key = userdata.get('OPENAI_KEY')  # Replace with your OpenAI API key if not using Colab's userdata\n",
        "hugging_face_token = userdata.get('HF_TOKEN')  # For Hugging Face, optional\n",
        "os.environ[\"OPENAI_API_KEY\"] = open_ai_api_key\n",
        "\n"
      ],
      "metadata": {
        "id": "jhAXMnvl_iDH"
      },
      "execution_count": 2,
      "outputs": []
    },
    {
      "cell_type": "markdown",
      "source": [
        "# Define Fields and Prompts"
      ],
      "metadata": {
        "id": "CkUSv68j_oMC"
      }
    },
    {
      "cell_type": "code",
      "source": [
        "# Define diverse fields and prompts for different scenarios\n",
        "prompts_new = {\n",
        "    'E-commerce': [\n",
        "        {\n",
        "            'prompt': '''### Instruction:\n",
        "Write a detailed product description for a luxury smartwatch highlighting its features, materials, and unique selling points.\n",
        "\n",
        "### Output format:\n",
        "- **Product Name**:\n",
        "- **Features**:\n",
        "- **Materials**:\n",
        "- **Unique Selling Points**:\n",
        "''',\n",
        "            'test_case': {}\n",
        "        },\n",
        "        {\n",
        "            'prompt': '''### Instruction:\n",
        "Draft a promotional email for a flash sale event for an online fashion store, including the sale duration, featured categories, and a call to action.\n",
        "\n",
        "### Output format:\n",
        "- **Subject Line**:\n",
        "- **Introduction**:\n",
        "- **Featured Categories**:\n",
        "- **Call to Action**:\n",
        "''',\n",
        "            'test_case': {}\n",
        "        },\n",
        "        {\n",
        "            'prompt': '''### Instruction:\n",
        "Develop a FAQ section for an online electronics store.\n",
        "\n",
        "### Output format:\n",
        "- **Question 1**:\n",
        "  - **Answer**:\n",
        "- **Question 2**:\n",
        "  - **Answer**:\n",
        "(Include at least 5 questions and answers)\n",
        "''',\n",
        "            'test_case': {}\n",
        "        }\n",
        "    ],\n",
        "    'Education': [\n",
        "        {\n",
        "            'prompt': '''### Instruction:\n",
        "Create a course syllabus for a 10-week programming class for beginners. Include weekly topics, learning objectives, and required materials.\n",
        "\n",
        "### Output format:\n",
        "- **Week 1**:\n",
        "  - Topics:\n",
        "  - Objectives:\n",
        "  - Materials:\n",
        "...\n",
        "(Repeat for all 10 weeks)\n",
        "''',\n",
        "            'test_case': {}\n",
        "        },\n",
        "        {\n",
        "            'prompt': '''### Instruction:\n",
        "Design a 5-question pop quiz on basic algebra for middle school students.\n",
        "\n",
        "### Output format:\n",
        "Provide each question and four options, marking the correct answer.\n",
        "\n",
        "- **Question 1**:\n",
        "  - A.\n",
        "  - B.\n",
        "  - C.\n",
        "  - D.\n",
        "- **Answer**:\n",
        "(Repeat for all questions)\n",
        "''',\n",
        "            'test_case': {}\n",
        "        },\n",
        "        {\n",
        "            'prompt': '''### Instruction:\n",
        "Write a motivational message for students preparing for final exams.\n",
        "\n",
        "### Output format:\n",
        "- **Introduction**:\n",
        "- **Encouragement**:\n",
        "- **Tips for Success**:\n",
        "- **Closing**:\n",
        "''',\n",
        "            'test_case': {}\n",
        "        }\n",
        "    ]\n",
        "}\n",
        "\n",
        "# Documentation:\n",
        "# 1. This dictionary contains new fields and prompts for different use cases (e.g., E-commerce, Education).\n",
        "# 2. Prompts are structured to include specific output formats for consistency and ease of validation.\n"
      ],
      "metadata": {
        "id": "7WVUvWm3_qG6"
      },
      "execution_count": 3,
      "outputs": []
    },
    {
      "cell_type": "markdown",
      "source": [
        "Testing Function"
      ],
      "metadata": {
        "id": "djQj8hWn_r9o"
      }
    },
    {
      "cell_type": "code",
      "source": [
        "# Function to test individual prompts\n",
        "def test_prompt_new(prompt_text, model=\"gpt-3.5-turbo\", max_tokens=300):\n",
        "    client = OpenAI(api_key=os.environ[\"OPENAI_API_KEY\"])\n",
        "    response = client.chat.completions.create(\n",
        "        model=model,\n",
        "        messages=[{\"role\": \"user\", \"content\": prompt_text}],\n",
        "        max_tokens=max_tokens,\n",
        "        temperature=0  # Set for deterministic results\n",
        "    )\n",
        "    return response.choices[0].message.content.strip()\n",
        "\n",
        "# Documentation:\n",
        "# - This function sends a prompt to the OpenAI API and retrieves a formatted response.\n",
        "# - Adjust `max_tokens` as needed based on the complexity of your prompts.\n"
      ],
      "metadata": {
        "id": "yRDxgJHx_vPE"
      },
      "execution_count": 4,
      "outputs": []
    },
    {
      "cell_type": "markdown",
      "source": [
        "Testing Specific Field"
      ],
      "metadata": {
        "id": "eQ4xtWnl_xY7"
      }
    },
    {
      "cell_type": "code",
      "source": [
        "# Function to retrieve and test prompts for a specific field\n",
        "def get_field_outputs_new(field_name):\n",
        "    if field_name in prompts_new:\n",
        "        outputs = []\n",
        "        for item in prompts_new[field_name]:\n",
        "            output = test_prompt_new(item['prompt'])\n",
        "            outputs.append({'prompt': item['prompt'], 'output': output})\n",
        "        return outputs\n",
        "    else:\n",
        "        print(f\"Field '{field_name}' not found.\")\n",
        "        return None\n",
        "\n",
        "# Documentation:\n",
        "# - This function loops through all prompts in a given field and collects their outputs.\n",
        "# - Use this function to test specific scenarios or validate prompt behavior.\n"
      ],
      "metadata": {
        "id": "a4yQOLjz_vNN"
      },
      "execution_count": 5,
      "outputs": []
    },
    {
      "cell_type": "markdown",
      "source": [
        "Display Results"
      ],
      "metadata": {
        "id": "eWqQON_P_2N8"
      }
    },
    {
      "cell_type": "code",
      "source": [
        "# Define Prompt Templates for Various Categories\n",
        "prompts = {\n",
        "    \"E-commerce\": [\n",
        "        {\n",
        "            \"prompt\": \"\"\"### Instruction:\\nCreate a product description for a new fitness tracker, including its features, benefits, and target audience.\\n\\n### Output format:\\n- **Product Name**:\\n- **Features**:\\n- **Benefits**:\\n- **Target Audience**:\"\"\",\n",
        "            \"expected_output\": {\n",
        "                \"Product Name\": \"FitPlus Tracker\",\n",
        "                \"Features\": [\"Step counter\", \"Heart rate monitor\", \"Sleep tracker\", \"Water-resistant\"],\n",
        "                \"Benefits\": [\"Helps monitor fitness goals\", \"Tracks heart health\", \"Improves sleep quality\"],\n",
        "                \"Target Audience\": [\"Fitness enthusiasts\", \"Health-conscious individuals\"]\n",
        "            },\n",
        "        },\n",
        "        {\n",
        "            \"prompt\": \"\"\"### Instruction:\\nWrite an email to customers announcing a seasonal sale on electronics, offering a 20% discount on all products.\\n\\n### Output format:\\n- **Subject**:\\n- **Greeting**:\\n- **Announcement Details**:\\n- **Call to Action**:\"\"\",\n",
        "            \"expected_output\": {\n",
        "                \"Subject\": \"Big Savings on Electronics - 20% Off!\",\n",
        "                \"Greeting\": \"Dear Valued Customer\",\n",
        "                \"Announcement Details\": \"We are excited to announce our seasonal sale, offering 20% off on all electronics.\",\n",
        "                \"Call to Action\": \"Shop now and enjoy the discount!\"\n",
        "            },\n",
        "        }\n",
        "    ]\n",
        "}\n",
        "\n",
        "# Function to Test a Single Prompt\n",
        "def test_single_prompt(prompt):\n",
        "    \"\"\"\n",
        "    Tests a single prompt using OpenAI's GPT API.\n",
        "    Args:\n",
        "        prompt (str): The input prompt to test.\n",
        "    Returns:\n",
        "        str: The response generated by the GPT model.\n",
        "    \"\"\"\n",
        "    try:\n",
        "        response = openai.ChatCompletion.create(\n",
        "            model=\"gpt-3.5-turbo\",\n",
        "            messages=[{\"role\": \"user\", \"content\": prompt}],\n",
        "            max_tokens=300,\n",
        "            temperature=0\n",
        "        )\n",
        "        return response[\"choices\"][0][\"message\"][\"content\"].strip()\n",
        "    except Exception as e:\n",
        "        return f\"Error: {e}\"\n",
        "\n",
        "# Documentation:\n",
        "# - The `test_single_prompt` function sends a single prompt to the OpenAI API.\n",
        "# - Handles errors gracefully, returning error details if encountered.\n"
      ],
      "metadata": {
        "id": "B5Fi2qvd_vKd"
      },
      "execution_count": 7,
      "outputs": []
    },
    {
      "cell_type": "code",
      "source": [
        "# Install and import required libraries\n",
        "!pip install -q openai langchain\n",
        "\n",
        "import openai\n",
        "import os\n",
        "\n",
        "# Documentation:\n",
        "# - Ensure you have set your OpenAI API key using the environment variable `OPENAI_API_KEY`.\n",
        "# - Upgrade OpenAI if needed using `!pip install --upgrade openai`.\n",
        "# - This setup is compatible with the latest OpenAI API version.\n",
        "\n",
        "# Set OpenAI API Key\n",
        "os.environ[\"OPENAI_API_KEY\"] = \"your_openai_api_key_here\"  # Replace with your API Key\n",
        "openai.api_key = os.getenv(\"OPENAI_API_KEY\")\n",
        "\n",
        "# Function to test prompts using the OpenAI ChatCompletion API\n",
        "def test_prompt(prompt, model=\"gpt-3.5-turbo\", max_tokens=300):\n",
        "    \"\"\"\n",
        "    Sends a prompt to the OpenAI ChatCompletion API and retrieves the response.\n",
        "\n",
        "    Args:\n",
        "        prompt (str): The input prompt for the model.\n",
        "        model (str): The model to use, default is \"gpt-3.5-turbo\".\n",
        "        max_tokens (int): Maximum number of tokens in the response.\n",
        "\n",
        "    Returns:\n",
        "        str: The generated response from the model or an error message.\n",
        "    \"\"\"\n",
        "    try:\n",
        "        response = openai.ChatCompletion.create(\n",
        "            model=model,\n",
        "            messages=[{\"role\": \"user\", \"content\": prompt}],\n",
        "            max_tokens=max_tokens,\n",
        "            temperature=0\n",
        "        )\n",
        "        return response[\"choices\"][0][\"message\"][\"content\"].strip()\n",
        "    except Exception as e:\n",
        "        return f\"Error: {e}\"\n",
        "\n",
        "# Prompts for Testing\n",
        "prompts = {\n",
        "    \"E-commerce\": [\n",
        "        {\n",
        "            \"prompt\": \"\"\"### Instruction:\\nCreate a product description for a new fitness tracker, including its features, benefits, and target audience.\\n\\n### Output format:\\n- **Product Name**:\\n- **Features**:\\n- **Benefits**:\\n- **Target Audience**:\"\"\",\n",
        "            \"expected_output\": {\n",
        "                \"Product Name\": \"FitPlus Tracker\",\n",
        "                \"Features\": [\"Step counter\", \"Heart rate monitor\", \"Sleep tracker\", \"Water-resistant\"],\n",
        "                \"Benefits\": [\"Helps monitor fitness goals\", \"Tracks heart health\", \"Improves sleep quality\"],\n",
        "                \"Target Audience\": [\"Fitness enthusiasts\", \"Health-conscious individuals\"]\n",
        "            },\n",
        "        },\n",
        "        {\n",
        "            \"prompt\": \"\"\"### Instruction:\\nWrite an email to customers announcing a seasonal sale on electronics, offering a 20% discount on all products.\\n\\n### Output format:\\n- **Subject**:\\n- **Greeting**:\\n- **Announcement Details**:\\n- **Call to Action**:\"\"\",\n",
        "            \"expected_output\": {\n",
        "                \"Subject\": \"Big Savings on Electronics - 20% Off!\",\n",
        "                \"Greeting\": \"Dear Valued Customer\",\n",
        "                \"Announcement Details\": \"We are excited to announce our seasonal sale, offering 20% off on all electronics.\",\n",
        "                \"Call to Action\": \"Shop now and enjoy the discount!\"\n",
        "            },\n",
        "        }\n",
        "    ]\n",
        "}\n",
        "\n",
        "# Function to Pretty-Print Prompt Outputs\n",
        "def pretty_print_outputs_new(category):\n",
        "    \"\"\"\n",
        "    Pretty-prints the prompts and their generated outputs for a specific category.\n",
        "\n",
        "    Args:\n",
        "        category (str): The category of prompts to test.\n",
        "    \"\"\"\n",
        "    if category in prompts:\n",
        "        print(f\"--- Testing Prompts for Category: {category} ---\\n\")\n",
        "        for idx, item in enumerate(prompts[category]):\n",
        "            print(f\"Prompt {idx + 1}:\\n\")\n",
        "            print(item[\"prompt\"])\n",
        "            print(\"\\nExpected Output:\\n\", item[\"expected_output\"])\n",
        "            print(\"\\nGenerated Output:\\n\", test_prompt(item[\"prompt\"]))\n",
        "            print(\"\\n\" + \"-\" * 50 + \"\\n\")\n",
        "    else:\n",
        "        print(f\"Category '{category}' not found.\")\n",
        "\n",
        "# Example Execution\n",
        "pretty_print_outputs_new(\"E-commerce\")\n"
      ],
      "metadata": {
        "colab": {
          "base_uri": "https://localhost:8080/"
        },
        "id": "l_sVzs7t_vH5",
        "outputId": "d607731f-4732-4335-8936-64bdfe408529"
      },
      "execution_count": 10,
      "outputs": [
        {
          "output_type": "stream",
          "name": "stdout",
          "text": [
            "--- Testing Prompts for Category: E-commerce ---\n",
            "\n",
            "Prompt 1:\n",
            "\n",
            "### Instruction:\n",
            "Create a product description for a new fitness tracker, including its features, benefits, and target audience.\n",
            "\n",
            "### Output format:\n",
            "- **Product Name**:\n",
            "- **Features**:\n",
            "- **Benefits**:\n",
            "- **Target Audience**:\n",
            "\n",
            "Expected Output:\n",
            " {'Product Name': 'FitPlus Tracker', 'Features': ['Step counter', 'Heart rate monitor', 'Sleep tracker', 'Water-resistant'], 'Benefits': ['Helps monitor fitness goals', 'Tracks heart health', 'Improves sleep quality'], 'Target Audience': ['Fitness enthusiasts', 'Health-conscious individuals']}\n",
            "\n",
            "Generated Output:\n",
            " Error: \n",
            "\n",
            "You tried to access openai.ChatCompletion, but this is no longer supported in openai>=1.0.0 - see the README at https://github.com/openai/openai-python for the API.\n",
            "\n",
            "You can run `openai migrate` to automatically upgrade your codebase to use the 1.0.0 interface. \n",
            "\n",
            "Alternatively, you can pin your installation to the old version, e.g. `pip install openai==0.28`\n",
            "\n",
            "A detailed migration guide is available here: https://github.com/openai/openai-python/discussions/742\n",
            "\n",
            "\n",
            "--------------------------------------------------\n",
            "\n",
            "Prompt 2:\n",
            "\n",
            "### Instruction:\n",
            "Write an email to customers announcing a seasonal sale on electronics, offering a 20% discount on all products.\n",
            "\n",
            "### Output format:\n",
            "- **Subject**:\n",
            "- **Greeting**:\n",
            "- **Announcement Details**:\n",
            "- **Call to Action**:\n",
            "\n",
            "Expected Output:\n",
            " {'Subject': 'Big Savings on Electronics - 20% Off!', 'Greeting': 'Dear Valued Customer', 'Announcement Details': 'We are excited to announce our seasonal sale, offering 20% off on all electronics.', 'Call to Action': 'Shop now and enjoy the discount!'}\n",
            "\n",
            "Generated Output:\n",
            " Error: \n",
            "\n",
            "You tried to access openai.ChatCompletion, but this is no longer supported in openai>=1.0.0 - see the README at https://github.com/openai/openai-python for the API.\n",
            "\n",
            "You can run `openai migrate` to automatically upgrade your codebase to use the 1.0.0 interface. \n",
            "\n",
            "Alternatively, you can pin your installation to the old version, e.g. `pip install openai==0.28`\n",
            "\n",
            "A detailed migration guide is available here: https://github.com/openai/openai-python/discussions/742\n",
            "\n",
            "\n",
            "--------------------------------------------------\n",
            "\n"
          ]
        }
      ]
    },
    {
      "cell_type": "code",
      "source": [],
      "metadata": {
        "id": "6BnXltGUAfVo"
      },
      "execution_count": null,
      "outputs": []
    }
  ]
}